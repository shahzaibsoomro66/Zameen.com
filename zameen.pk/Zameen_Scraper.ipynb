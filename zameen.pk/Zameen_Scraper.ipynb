{
 "cells": [
  {
   "cell_type": "code",
   "execution_count": null,
   "metadata": {
    "id": "gJGFo-vhlY6Y"
   },
   "outputs": [],
   "source": [
    "import requests\n",
    "import requests\n",
    "from bs4 import BeautifulSoup\n",
    "import math\n",
    "import re"
   ]
  },
  {
   "cell_type": "code",
   "execution_count": null,
   "metadata": {
    "id": "Hux5OzM-ofaS"
   },
   "outputs": [],
   "source": [
    "# CONSTANTS\n",
    "total = 45082\n",
    "threshold = 25\n",
    "iterations = math.floor(total/threshold)-1\n",
    "list_template = \"https://www.zameen.com/Homes/Karachi-2-\"\n",
    "list_template_post = \".html\"\n",
    "mainLink = \"https://www.zameen.com\"\n",
    "pageLinks = []\n",
    "all = []\n",
    "uniqueColumns = []\n",
    "# Area is in sq yard"
   ]
  },
  {
   "cell_type": "code",
   "execution_count": null,
   "metadata": {
    "id": "EaEdDlfel9Gh"
   },
   "outputs": [],
   "source": [
    "def fetchPage(URL):\n",
    "  r = requests.get(URL)\n",
    "  return r.content\n",
    "\n",
    "def run(page):\n",
    "  soup = BeautifulSoup(page, 'html5lib')\n",
    "  links = soup.find_all('a', class_=[\"_7ac32433\"])\n",
    "  for row in links:\n",
    "    pageLinks.append(row.get(\"href\"))\n",
    "\n",
    "def addUniqueColumn(value):\n",
    "  if value not in uniqueColumns:\n",
    "    uniqueColumns.append(value)\n",
    "\n",
    "def fetchHousePage(link):\n",
    "  entry = {}\n",
    "  soup = BeautifulSoup(fetchPage(link), 'html5lib')\n",
    "  dataList = soup.find('ul', class_=[\"_033281ab\"])\n",
    "  for ring in dataList:\n",
    "    name = ring.find(\"span\", class_=[\"_812aa185\"]).get(\"aria-label\")\n",
    "    value = ring.find(\"span\", class_=[\"_812aa185\"])\n",
    "    if name == \"Beds\" or name == \"Baths\":\n",
    "      entry[name.lower()] = int(\"\".join(re.findall(\"[0-9]\", value.string)))\n",
    "      addUniqueColumn(name.lower())\n",
    "    elif name == \"Area\":\n",
    "      entry[name.lower()] = int(\"\".join(re.findall(\"[0-9]\", value.find(\"span\").string)))\n",
    "      addUniqueColumn(name.lower())\n",
    "    elif name == \"Type\":\n",
    "      entry[name.lower()] = value.string.strip()\n",
    "      addUniqueColumn(name.lower())\n",
    "    elif name == \"Price\":\n",
    "      entry[name.lower()] = value.find(\"div\").text.replace(\"PKR\", \"\").strip()\n",
    "      addUniqueColumn(name.lower())\n",
    "    elif name == \"Location\":\n",
    "      entry[name.lower()] = value.string.strip()\n",
    "      addUniqueColumn(name.lower())\n",
    "    elif name == \"Purpose\":\n",
    "      entry[name.lower()] = value.string.strip()\n",
    "      addUniqueColumn(name.lower())\n",
    "\n",
    "  features = soup.find_all('span', {'class' : '_17984a2c'})\n",
    "  featureList = [feature.get_text() for feature in features]\n",
    "\n",
    "  for ring in featureList:\n",
    "    isQuantity = ring.split(\":\")\n",
    "    if len(isQuantity) == 2:\n",
    "      entry[isQuantity[0].strip().lower()] = int(isQuantity[1])\n",
    "      addUniqueColumn(isQuantity[0].strip().lower())\n",
    "    else:\n",
    "      entry[ring.strip().lower()] = 1\n",
    "      addUniqueColumn(ring.strip().lower())\n",
    "  \n",
    "  all.append(entry)\n"
   ]
  },
  {
   "cell_type": "code",
   "execution_count": null,
   "metadata": {
    "id": "Gkpv0pwmldvB"
   },
   "outputs": [],
   "source": [
    "for link in pageLinks:\n",
    "  try:\n",
    "    fetchHousePage(mainLink+link)\n",
    "  except:\n",
    "    pass"
   ]
  },
  {
   "cell_type": "code",
   "execution_count": null,
   "metadata": {
    "colab": {
     "base_uri": "https://localhost:8080/"
    },
    "id": "3IhAYw48HJqL",
    "outputId": "841158be-a8b4-49cf-ae09-0567661f2acd"
   },
   "outputs": [
    {
     "name": "stdout",
     "output_type": "stream",
     "text": [
      "25913\n",
      "23022\n"
     ]
    }
   ],
   "source": [
    "print(len(pageLinks))\n",
    "print(len(all))"
   ]
  },
  {
   "cell_type": "code",
   "execution_count": null,
   "metadata": {
    "colab": {
     "base_uri": "https://localhost:8080/"
    },
    "id": "uTQz5aSXGqU1",
    "outputId": "cdeb9400-5509-4e3a-ccd5-2305a1e3c982"
   },
   "outputs": [
    {
     "data": {
      "text/plain": [
       "[]"
      ]
     },
     "execution_count": 137,
     "metadata": {},
     "output_type": "execute_result"
    }
   ],
   "source": [
    "all"
   ]
  },
  {
   "cell_type": "code",
   "execution_count": null,
   "metadata": {
    "colab": {
     "base_uri": "https://localhost:8080/"
    },
    "id": "7U3_9LpKGtob",
    "outputId": "6e9e5ea3-733c-4a68-841f-5a22d507ce26"
   },
   "outputs": [
    {
     "data": {
      "text/plain": [
       "[]"
      ]
     },
     "execution_count": 138,
     "metadata": {},
     "output_type": "execute_result"
    }
   ],
   "source": [
    "uniqueColumns"
   ]
  },
  {
   "cell_type": "code",
   "execution_count": null,
   "metadata": {
    "colab": {
     "base_uri": "https://localhost:8080/"
    },
    "id": "TG_JIPjjHpaz",
    "outputId": "4c6f2104-34c7-4a20-86d6-f5bf4235fc2d"
   },
   "outputs": [
    {
     "data": {
      "text/plain": [
       "[]"
      ]
     },
     "execution_count": 139,
     "metadata": {},
     "output_type": "execute_result"
    }
   ],
   "source": [
    "pageLinks"
   ]
  },
  {
   "cell_type": "code",
   "execution_count": null,
   "metadata": {
    "id": "_1BGxPKjvchy"
   },
   "outputs": [],
   "source": [
    "with open('zameen_dataset_columns.txt', 'w') as f:\n",
    "    for item in uniqueColumns:\n",
    "        f.write(\"%s\\n\" % item)"
   ]
  },
  {
   "cell_type": "code",
   "execution_count": null,
   "metadata": {
    "id": "UXe7TZOKv1Jr"
   },
   "outputs": [],
   "source": [
    "with open('/content/zameen_home_links.txt', 'r') as file:\n",
    "    for line in file:\n",
    "        pageLinks.append(line.rstrip())"
   ]
  },
  {
   "cell_type": "code",
   "execution_count": null,
   "metadata": {
    "id": "LWW4yCDFWb9x"
   },
   "outputs": [],
   "source": [
    "# for page in pageLinks"
   ]
  },
  {
   "cell_type": "code",
   "execution_count": null,
   "metadata": {
    "id": "yncw7UCJXLNP"
   },
   "outputs": [],
   "source": [
    "# # link = \"https://www.zameen.com/Property/karachi_karachi_hyderabad_motorway_a_stunning_farm_house_is_up_for_grabs_in_karachi_hyderabad_motorway_karachi_hyderabad_motorway-36991907-17010-1.html\"\n",
    "# link = \"https://www.zameen.com/Property/malir_gulshan_e_rafi_stunning_upper_portion_is_available_for_sale_in_gulshan_e_rafi-38617549-7305-1.html\"\n",
    "# soup = BeautifulSoup(requests.get(link).content, 'html5lib')\n",
    "# # print(mainLink+pageLinks[56])\n",
    "\n",
    "# dataList = soup.find('ul', class_=[\"_033281ab\"])\n",
    "# for ring in dataList:\n",
    "#   name = ring.find(\"span\", class_=[\"_812aa185\"]).get(\"aria-label\")\n",
    "#   value = ring.find(\"span\", class_=[\"_812aa185\"])\n",
    "#   if name == \"Beds\" or name == \"Baths\":\n",
    "#     entry[name.lower()] = int(\"\".join(re.findall(\"[0-9]\", value.string)))\n",
    "#     addUniqueColumn(name.lower())\n",
    "#   elif name == \"Area\":\n",
    "#     entry[name.lower()] = int(\"\".join(re.findall(\"[0-9]\", value.find(\"span\").string)))\n",
    "#     addUniqueColumn(name.lower())\n",
    "#   elif name == \"Type\":\n",
    "#     entry[name.lower()] = value.string.strip()\n",
    "#     addUniqueColumn(name.lower())\n",
    "#   elif name == \"Price\":\n",
    "#     entry[name.lower()] = value.find(\"div\").text.replace(\"PKR\", \"\").strip()\n",
    "#     addUniqueColumn(name.lower())\n",
    "#   elif name == \"Location\":\n",
    "#     entry[name.lower()] = value.string.strip()\n",
    "#     addUniqueColumn(name.lower())\n",
    "#   elif name == \"Purpose\":\n",
    "#     entry[name.lower()] = value.string.strip()\n",
    "#     addUniqueColumn(name.lower())\n",
    "\n",
    "# features = soup.find_all('span', {'class' : '_17984a2c'})\n",
    "# featureList = [feature.get_text() for feature in features]\n",
    "\n",
    "# for ring in featureList:\n",
    "#   isQuantity = ring.split(\":\")\n",
    "#   if len(isQuantity) == 2:\n",
    "#     entry[isQuantity[0].strip().lower()] = int(isQuantity[1])\n",
    "#     addUniqueColumn(isQuantity[0].strip().lower())\n",
    "#   else:\n",
    "#     entry[ring.strip().lower()] = 1\n",
    "#     addUniqueColumn(ring.strip().lower())\n",
    "\n",
    "    \n",
    "# print(entry)\n",
    "# print(uniqueColumns)\n",
    "\n",
    "\n",
    "# import ast\n",
    "# v = []\n",
    "# with open('test.txt', 'r') as file:\n",
    "#     for line in file:\n",
    "#         v.append(line.rstrip())\n",
    "# print(v)\n",
    "# d= []\n",
    "# for i in v:\n",
    "#   d.append(ast.literal_eval(i))\n",
    "\n",
    "# for i, one in enumerate(a):\n",
    "#   for j in b:\n",
    "#     if j not in one:\n",
    "#       a[i][j] = 0\n",
    "\n",
    "# a\n",
    "\n",
    "# d"
   ]
  },
  {
   "cell_type": "code",
   "execution_count": null,
   "metadata": {
    "id": "b0SajKq7adDI"
   },
   "outputs": [],
   "source": [
    "# int(\"\".join(re.findall(\"[0-9]\", \"2 Beds\")))"
   ]
  },
  {
   "cell_type": "code",
   "execution_count": null,
   "metadata": {
    "id": "yDqCJMhgaiEH"
   },
   "outputs": [],
   "source": [
    "for i, one in enumerate(all):\n",
    "  for j in uniqueColumns:\n",
    "    if j not in one:\n",
    "      all[i][j] = 0"
   ]
  },
  {
   "cell_type": "code",
   "execution_count": null,
   "metadata": {
    "id": "v-BIz-Qj8AUg"
   },
   "outputs": [],
   "source": [
    "import pandas as pd\n",
    "import numpy as np"
   ]
  },
  {
   "cell_type": "code",
   "execution_count": null,
   "metadata": {
    "colab": {
     "base_uri": "https://localhost:8080/"
    },
    "id": "BLJrwRVh8s-g",
    "outputId": "d9397747-bdf8-4d76-e8b9-e7659ec422c0"
   },
   "outputs": [
    {
     "data": {
      "text/plain": [
       "23022"
      ]
     },
     "execution_count": 165,
     "metadata": {},
     "output_type": "execute_result"
    }
   ],
   "source": [
    "import ast\n",
    "data_raw = []\n",
    "with open('zameen_home_data_equalized.txt', 'r') as file:\n",
    "    for line in file:\n",
    "        data_raw.append(ast.literal_eval(line.rstrip()))\n",
    "\n",
    "len(data_raw)"
   ]
  },
  {
   "cell_type": "code",
   "execution_count": null,
   "metadata": {
    "id": "iA8O16759Imn"
   },
   "outputs": [],
   "source": [
    "to_add = {'area': [],\n",
    " 'atm machines': [],\n",
    " 'barbeque area': [],\n",
    " 'bathrooms': [],\n",
    " 'baths': [],\n",
    " 'bedrooms': [],\n",
    " 'beds': [],\n",
    " 'broadband internet access': [],\n",
    " 'built in year': [],\n",
    " 'business center or media room in building': [],\n",
    " 'cctv security': [],\n",
    " 'central air conditioning': [],\n",
    " 'central heating': [],\n",
    " 'communal/shared kitchen': [],\n",
    " 'community centre': [],\n",
    " 'community gym': [],\n",
    " 'community lawn or garden': [],\n",
    " 'community swimming pool': [],\n",
    " 'conference room in building': [],\n",
    " 'day care centre': [],\n",
    " 'dining room': [],\n",
    " 'distance from airport (kms)': [],\n",
    " 'double glazed windows': [],\n",
    " 'drawing room': [],\n",
    " 'electricity backup': [],\n",
    " 'elevators': [],\n",
    " 'facilities for disabled': [],\n",
    " 'first aid or medical centre': [],\n",
    " 'floor': [],\n",
    " 'flooring': [],\n",
    " 'floors': [],\n",
    " 'floors in building': [],\n",
    " 'furnished': [],\n",
    " 'gym': [],\n",
    " 'intercom': [],\n",
    " 'jacuzzi': [],\n",
    " 'kids play area': [],\n",
    " 'kitchens': [],\n",
    " 'laundry or dry cleaning facility': [],\n",
    " 'laundry room': [],\n",
    " 'lawn or garden': [],\n",
    " 'lobby in building': [],\n",
    " 'location': [],\n",
    " 'lounge or sitting room': [],\n",
    " 'maintenance staff': [],\n",
    " 'mosque': [],\n",
    " 'nearby hospitals': [],\n",
    " 'nearby public transport service': [],\n",
    " 'nearby restaurants': [],\n",
    " 'nearby schools': [],\n",
    " 'nearby shopping malls': [],\n",
    " 'other business and communication facilities': [],\n",
    " 'other community facilities': [],\n",
    " 'other facilities': [],\n",
    " 'other healthcare and recreation facilities': [],\n",
    " 'other main features': [],\n",
    " 'other nearby places': [],\n",
    " 'other rooms': [],\n",
    " 'parking spaces': [],\n",
    " 'pet policy': [],\n",
    " 'powder room': [],\n",
    " 'prayer room': [],\n",
    " 'price': [],\n",
    " 'public parking': [],\n",
    " 'purpose': [],\n",
    " 'satellite or cable tv ready': [],\n",
    " 'sauna': [],\n",
    " 'security staff': [],\n",
    " 'servant quarters': [],\n",
    " 'service elevators in building': [],\n",
    " 'steam room': [],\n",
    " 'store rooms': [],\n",
    " 'study room': [],\n",
    " 'swimming pool': [],\n",
    " 'type': [],\n",
    " 'waste disposal': []}\n",
    "for i, one in enumerate(data_raw):\n",
    "  for j in uniqueColumns:\n",
    "    to_add[j].append(one[j])"
   ]
  },
  {
   "cell_type": "code",
   "execution_count": null,
   "metadata": {
    "colab": {
     "base_uri": "https://localhost:8080/",
     "height": 247
    },
    "id": "ZtYlsAaT9YI2",
    "outputId": "43d005d8-3cd2-4e63-95bd-a791a03e0d2a"
   },
   "outputs": [
    {
     "data": {
      "text/html": [
       "\n",
       "  <div id=\"df-e234f48c-4981-4b67-8ac1-ba6132eaf840\">\n",
       "    <div class=\"colab-df-container\">\n",
       "      <div>\n",
       "<style scoped>\n",
       "    .dataframe tbody tr th:only-of-type {\n",
       "        vertical-align: middle;\n",
       "    }\n",
       "\n",
       "    .dataframe tbody tr th {\n",
       "        vertical-align: top;\n",
       "    }\n",
       "\n",
       "    .dataframe thead th {\n",
       "        text-align: right;\n",
       "    }\n",
       "</style>\n",
       "<table border=\"1\" class=\"dataframe\">\n",
       "  <thead>\n",
       "    <tr style=\"text-align: right;\">\n",
       "      <th></th>\n",
       "      <th>area</th>\n",
       "      <th>atm machines</th>\n",
       "      <th>barbeque area</th>\n",
       "      <th>bathrooms</th>\n",
       "      <th>baths</th>\n",
       "      <th>bedrooms</th>\n",
       "      <th>beds</th>\n",
       "      <th>broadband internet access</th>\n",
       "      <th>built in year</th>\n",
       "      <th>business center or media room in building</th>\n",
       "      <th>...</th>\n",
       "      <th>sauna</th>\n",
       "      <th>security staff</th>\n",
       "      <th>servant quarters</th>\n",
       "      <th>service elevators in building</th>\n",
       "      <th>steam room</th>\n",
       "      <th>store rooms</th>\n",
       "      <th>study room</th>\n",
       "      <th>swimming pool</th>\n",
       "      <th>type</th>\n",
       "      <th>waste disposal</th>\n",
       "    </tr>\n",
       "  </thead>\n",
       "  <tbody>\n",
       "    <tr>\n",
       "      <th>0</th>\n",
       "      <td>55</td>\n",
       "      <td>0</td>\n",
       "      <td>0</td>\n",
       "      <td>1</td>\n",
       "      <td>1</td>\n",
       "      <td>1</td>\n",
       "      <td>1</td>\n",
       "      <td>0</td>\n",
       "      <td>0</td>\n",
       "      <td>0</td>\n",
       "      <td>...</td>\n",
       "      <td>0</td>\n",
       "      <td>0</td>\n",
       "      <td>0</td>\n",
       "      <td>0</td>\n",
       "      <td>0</td>\n",
       "      <td>0</td>\n",
       "      <td>0</td>\n",
       "      <td>0</td>\n",
       "      <td>Flat</td>\n",
       "      <td>1</td>\n",
       "    </tr>\n",
       "    <tr>\n",
       "      <th>1</th>\n",
       "      <td>150</td>\n",
       "      <td>0</td>\n",
       "      <td>0</td>\n",
       "      <td>0</td>\n",
       "      <td>4</td>\n",
       "      <td>4</td>\n",
       "      <td>4</td>\n",
       "      <td>0</td>\n",
       "      <td>2022</td>\n",
       "      <td>0</td>\n",
       "      <td>...</td>\n",
       "      <td>0</td>\n",
       "      <td>0</td>\n",
       "      <td>0</td>\n",
       "      <td>0</td>\n",
       "      <td>0</td>\n",
       "      <td>0</td>\n",
       "      <td>0</td>\n",
       "      <td>0</td>\n",
       "      <td>House</td>\n",
       "      <td>0</td>\n",
       "    </tr>\n",
       "    <tr>\n",
       "      <th>2</th>\n",
       "      <td>500</td>\n",
       "      <td>0</td>\n",
       "      <td>0</td>\n",
       "      <td>6</td>\n",
       "      <td>6</td>\n",
       "      <td>5</td>\n",
       "      <td>5</td>\n",
       "      <td>0</td>\n",
       "      <td>0</td>\n",
       "      <td>0</td>\n",
       "      <td>...</td>\n",
       "      <td>0</td>\n",
       "      <td>1</td>\n",
       "      <td>1</td>\n",
       "      <td>0</td>\n",
       "      <td>0</td>\n",
       "      <td>0</td>\n",
       "      <td>1</td>\n",
       "      <td>0</td>\n",
       "      <td>House</td>\n",
       "      <td>1</td>\n",
       "    </tr>\n",
       "    <tr>\n",
       "      <th>3</th>\n",
       "      <td>42</td>\n",
       "      <td>0</td>\n",
       "      <td>1</td>\n",
       "      <td>1</td>\n",
       "      <td>1</td>\n",
       "      <td>1</td>\n",
       "      <td>1</td>\n",
       "      <td>1</td>\n",
       "      <td>0</td>\n",
       "      <td>0</td>\n",
       "      <td>...</td>\n",
       "      <td>0</td>\n",
       "      <td>1</td>\n",
       "      <td>0</td>\n",
       "      <td>1</td>\n",
       "      <td>0</td>\n",
       "      <td>1</td>\n",
       "      <td>0</td>\n",
       "      <td>0</td>\n",
       "      <td>Flat</td>\n",
       "      <td>1</td>\n",
       "    </tr>\n",
       "    <tr>\n",
       "      <th>4</th>\n",
       "      <td>152</td>\n",
       "      <td>0</td>\n",
       "      <td>1</td>\n",
       "      <td>4</td>\n",
       "      <td>4</td>\n",
       "      <td>3</td>\n",
       "      <td>3</td>\n",
       "      <td>1</td>\n",
       "      <td>2022</td>\n",
       "      <td>0</td>\n",
       "      <td>...</td>\n",
       "      <td>1</td>\n",
       "      <td>1</td>\n",
       "      <td>1</td>\n",
       "      <td>0</td>\n",
       "      <td>1</td>\n",
       "      <td>1</td>\n",
       "      <td>1</td>\n",
       "      <td>1</td>\n",
       "      <td>House</td>\n",
       "      <td>1</td>\n",
       "    </tr>\n",
       "  </tbody>\n",
       "</table>\n",
       "<p>5 rows × 76 columns</p>\n",
       "</div>\n",
       "      <button class=\"colab-df-convert\" onclick=\"convertToInteractive('df-e234f48c-4981-4b67-8ac1-ba6132eaf840')\"\n",
       "              title=\"Convert this dataframe to an interactive table.\"\n",
       "              style=\"display:none;\">\n",
       "        \n",
       "  <svg xmlns=\"http://www.w3.org/2000/svg\" height=\"24px\"viewBox=\"0 0 24 24\"\n",
       "       width=\"24px\">\n",
       "    <path d=\"M0 0h24v24H0V0z\" fill=\"none\"/>\n",
       "    <path d=\"M18.56 5.44l.94 2.06.94-2.06 2.06-.94-2.06-.94-.94-2.06-.94 2.06-2.06.94zm-11 1L8.5 8.5l.94-2.06 2.06-.94-2.06-.94L8.5 2.5l-.94 2.06-2.06.94zm10 10l.94 2.06.94-2.06 2.06-.94-2.06-.94-.94-2.06-.94 2.06-2.06.94z\"/><path d=\"M17.41 7.96l-1.37-1.37c-.4-.4-.92-.59-1.43-.59-.52 0-1.04.2-1.43.59L10.3 9.45l-7.72 7.72c-.78.78-.78 2.05 0 2.83L4 21.41c.39.39.9.59 1.41.59.51 0 1.02-.2 1.41-.59l7.78-7.78 2.81-2.81c.8-.78.8-2.07 0-2.86zM5.41 20L4 18.59l7.72-7.72 1.47 1.35L5.41 20z\"/>\n",
       "  </svg>\n",
       "      </button>\n",
       "      \n",
       "  <style>\n",
       "    .colab-df-container {\n",
       "      display:flex;\n",
       "      flex-wrap:wrap;\n",
       "      gap: 12px;\n",
       "    }\n",
       "\n",
       "    .colab-df-convert {\n",
       "      background-color: #E8F0FE;\n",
       "      border: none;\n",
       "      border-radius: 50%;\n",
       "      cursor: pointer;\n",
       "      display: none;\n",
       "      fill: #1967D2;\n",
       "      height: 32px;\n",
       "      padding: 0 0 0 0;\n",
       "      width: 32px;\n",
       "    }\n",
       "\n",
       "    .colab-df-convert:hover {\n",
       "      background-color: #E2EBFA;\n",
       "      box-shadow: 0px 1px 2px rgba(60, 64, 67, 0.3), 0px 1px 3px 1px rgba(60, 64, 67, 0.15);\n",
       "      fill: #174EA6;\n",
       "    }\n",
       "\n",
       "    [theme=dark] .colab-df-convert {\n",
       "      background-color: #3B4455;\n",
       "      fill: #D2E3FC;\n",
       "    }\n",
       "\n",
       "    [theme=dark] .colab-df-convert:hover {\n",
       "      background-color: #434B5C;\n",
       "      box-shadow: 0px 1px 3px 1px rgba(0, 0, 0, 0.15);\n",
       "      filter: drop-shadow(0px 1px 2px rgba(0, 0, 0, 0.3));\n",
       "      fill: #FFFFFF;\n",
       "    }\n",
       "  </style>\n",
       "\n",
       "      <script>\n",
       "        const buttonEl =\n",
       "          document.querySelector('#df-e234f48c-4981-4b67-8ac1-ba6132eaf840 button.colab-df-convert');\n",
       "        buttonEl.style.display =\n",
       "          google.colab.kernel.accessAllowed ? 'block' : 'none';\n",
       "\n",
       "        async function convertToInteractive(key) {\n",
       "          const element = document.querySelector('#df-e234f48c-4981-4b67-8ac1-ba6132eaf840');\n",
       "          const dataTable =\n",
       "            await google.colab.kernel.invokeFunction('convertToInteractive',\n",
       "                                                     [key], {});\n",
       "          if (!dataTable) return;\n",
       "\n",
       "          const docLinkHtml = 'Like what you see? Visit the ' +\n",
       "            '<a target=\"_blank\" href=https://colab.research.google.com/notebooks/data_table.ipynb>data table notebook</a>'\n",
       "            + ' to learn more about interactive tables.';\n",
       "          element.innerHTML = '';\n",
       "          dataTable['output_type'] = 'display_data';\n",
       "          await google.colab.output.renderOutput(dataTable, element);\n",
       "          const docLink = document.createElement('div');\n",
       "          docLink.innerHTML = docLinkHtml;\n",
       "          element.appendChild(docLink);\n",
       "        }\n",
       "      </script>\n",
       "    </div>\n",
       "  </div>\n",
       "  "
      ],
      "text/plain": [
       "   area  atm machines  barbeque area  bathrooms  baths  bedrooms  beds  \\\n",
       "0    55             0              0          1      1         1     1   \n",
       "1   150             0              0          0      4         4     4   \n",
       "2   500             0              0          6      6         5     5   \n",
       "3    42             0              1          1      1         1     1   \n",
       "4   152             0              1          4      4         3     3   \n",
       "\n",
       "   broadband internet access  built in year  \\\n",
       "0                          0              0   \n",
       "1                          0           2022   \n",
       "2                          0              0   \n",
       "3                          1              0   \n",
       "4                          1           2022   \n",
       "\n",
       "   business center or media room in building  ...  sauna  security staff  \\\n",
       "0                                          0  ...      0               0   \n",
       "1                                          0  ...      0               0   \n",
       "2                                          0  ...      0               1   \n",
       "3                                          0  ...      0               1   \n",
       "4                                          0  ...      1               1   \n",
       "\n",
       "   servant quarters  service elevators in building  steam room  store rooms  \\\n",
       "0                 0                              0           0            0   \n",
       "1                 0                              0           0            0   \n",
       "2                 1                              0           0            0   \n",
       "3                 0                              1           0            1   \n",
       "4                 1                              0           1            1   \n",
       "\n",
       "   study room  swimming pool   type  waste disposal  \n",
       "0           0              0   Flat               1  \n",
       "1           0              0  House               0  \n",
       "2           1              0  House               1  \n",
       "3           0              0   Flat               1  \n",
       "4           1              1  House               1  \n",
       "\n",
       "[5 rows x 76 columns]"
      ]
     },
     "execution_count": 178,
     "metadata": {},
     "output_type": "execute_result"
    },
    {
     "name": "stdout",
     "output_type": "stream",
     "text": [
      "Warning: Total number of columns (76) exceeds max_columns (20) limiting to first (20) columns.\n"
     ]
    }
   ],
   "source": [
    "df = pd.DataFrame.from_dict(to_add)\n",
    "\n",
    "df.head(5)"
   ]
  },
  {
   "cell_type": "code",
   "execution_count": null,
   "metadata": {
    "id": "dRqzHkD7_Nl7"
   },
   "outputs": [],
   "source": [
    "df.to_csv(\"zameen-karachi-dataset.csv\")"
   ]
  },
  {
   "cell_type": "code",
   "execution_count": null,
   "metadata": {
    "id": "j5_Wt1QhAFXK"
   },
   "outputs": [],
   "source": []
  }
 ],
 "metadata": {
  "colab": {
   "collapsed_sections": [],
   "name": "Zameen Scraper.ipynb",
   "provenance": []
  },
  "kernelspec": {
   "display_name": "Python 3 (ipykernel)",
   "language": "python",
   "name": "python3"
  },
  "language_info": {
   "codemirror_mode": {
    "name": "ipython",
    "version": 3
   },
   "file_extension": ".py",
   "mimetype": "text/x-python",
   "name": "python",
   "nbconvert_exporter": "python",
   "pygments_lexer": "ipython3",
   "version": "3.9.7"
  }
 },
 "nbformat": 4,
 "nbformat_minor": 1
}
