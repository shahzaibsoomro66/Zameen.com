{
 "cells": [
  {
   "cell_type": "code",
   "execution_count": 1,
   "id": "28f9ebd1",
   "metadata": {},
   "outputs": [
    {
     "name": "stderr",
     "output_type": "stream",
     "text": [
      "UsageError: Line magic function `%matplotlib.inline` not found.\n"
     ]
    }
   ],
   "source": [
    "import numpy as np\n",
    "import pandas as pd\n",
    "import seaborn as sns\n",
    "import matplotlib.pyplot as plt\n",
    "%matplotlib.inline"
   ]
  },
  {
   "cell_type": "code",
   "execution_count": 9,
   "id": "3bf29178",
   "metadata": {},
   "outputs": [],
   "source": [
    "df = pd.read_csv(\"zameen_karachi_cleaned_data_1000.csv\")"
   ]
  },
  {
   "cell_type": "code",
   "execution_count": 10,
   "id": "eb2bd046",
   "metadata": {},
   "outputs": [
    {
     "data": {
      "text/html": [
       "<div>\n",
       "<style scoped>\n",
       "    .dataframe tbody tr th:only-of-type {\n",
       "        vertical-align: middle;\n",
       "    }\n",
       "\n",
       "    .dataframe tbody tr th {\n",
       "        vertical-align: top;\n",
       "    }\n",
       "\n",
       "    .dataframe thead th {\n",
       "        text-align: right;\n",
       "    }\n",
       "</style>\n",
       "<table border=\"1\" class=\"dataframe\">\n",
       "  <thead>\n",
       "    <tr style=\"text-align: right;\">\n",
       "      <th></th>\n",
       "      <th>area</th>\n",
       "      <th>atm machines</th>\n",
       "      <th>barbeque area</th>\n",
       "      <th>bathrooms</th>\n",
       "      <th>baths</th>\n",
       "      <th>bedrooms</th>\n",
       "      <th>beds</th>\n",
       "      <th>broadband internet access</th>\n",
       "      <th>built in year</th>\n",
       "      <th>business center or media room in building</th>\n",
       "      <th>...</th>\n",
       "      <th>sauna</th>\n",
       "      <th>security staff</th>\n",
       "      <th>servant quarters</th>\n",
       "      <th>service elevators in building</th>\n",
       "      <th>steam room</th>\n",
       "      <th>store rooms</th>\n",
       "      <th>study room</th>\n",
       "      <th>swimming pool</th>\n",
       "      <th>type</th>\n",
       "      <th>waste disposal</th>\n",
       "    </tr>\n",
       "  </thead>\n",
       "  <tbody>\n",
       "    <tr>\n",
       "      <th>0</th>\n",
       "      <td>55</td>\n",
       "      <td>0</td>\n",
       "      <td>0</td>\n",
       "      <td>1</td>\n",
       "      <td>1</td>\n",
       "      <td>1</td>\n",
       "      <td>1</td>\n",
       "      <td>0</td>\n",
       "      <td>0</td>\n",
       "      <td>0</td>\n",
       "      <td>...</td>\n",
       "      <td>0</td>\n",
       "      <td>0</td>\n",
       "      <td>0</td>\n",
       "      <td>0</td>\n",
       "      <td>0</td>\n",
       "      <td>0</td>\n",
       "      <td>0</td>\n",
       "      <td>0</td>\n",
       "      <td>0</td>\n",
       "      <td>1</td>\n",
       "    </tr>\n",
       "    <tr>\n",
       "      <th>1</th>\n",
       "      <td>150</td>\n",
       "      <td>0</td>\n",
       "      <td>0</td>\n",
       "      <td>0</td>\n",
       "      <td>4</td>\n",
       "      <td>4</td>\n",
       "      <td>4</td>\n",
       "      <td>0</td>\n",
       "      <td>2022</td>\n",
       "      <td>0</td>\n",
       "      <td>...</td>\n",
       "      <td>0</td>\n",
       "      <td>0</td>\n",
       "      <td>0</td>\n",
       "      <td>0</td>\n",
       "      <td>0</td>\n",
       "      <td>0</td>\n",
       "      <td>0</td>\n",
       "      <td>0</td>\n",
       "      <td>1</td>\n",
       "      <td>0</td>\n",
       "    </tr>\n",
       "    <tr>\n",
       "      <th>2</th>\n",
       "      <td>500</td>\n",
       "      <td>0</td>\n",
       "      <td>0</td>\n",
       "      <td>6</td>\n",
       "      <td>6</td>\n",
       "      <td>5</td>\n",
       "      <td>5</td>\n",
       "      <td>0</td>\n",
       "      <td>0</td>\n",
       "      <td>0</td>\n",
       "      <td>...</td>\n",
       "      <td>0</td>\n",
       "      <td>1</td>\n",
       "      <td>1</td>\n",
       "      <td>0</td>\n",
       "      <td>0</td>\n",
       "      <td>0</td>\n",
       "      <td>1</td>\n",
       "      <td>0</td>\n",
       "      <td>1</td>\n",
       "      <td>1</td>\n",
       "    </tr>\n",
       "  </tbody>\n",
       "</table>\n",
       "<p>3 rows × 75 columns</p>\n",
       "</div>"
      ],
      "text/plain": [
       "   area  atm machines  barbeque area  bathrooms  baths  bedrooms  beds  \\\n",
       "0    55             0              0          1      1         1     1   \n",
       "1   150             0              0          0      4         4     4   \n",
       "2   500             0              0          6      6         5     5   \n",
       "\n",
       "   broadband internet access  built in year  \\\n",
       "0                          0              0   \n",
       "1                          0           2022   \n",
       "2                          0              0   \n",
       "\n",
       "   business center or media room in building  ...  sauna  security staff  \\\n",
       "0                                          0  ...      0               0   \n",
       "1                                          0  ...      0               0   \n",
       "2                                          0  ...      0               1   \n",
       "\n",
       "   servant quarters  service elevators in building  steam room  store rooms  \\\n",
       "0                 0                              0           0            0   \n",
       "1                 0                              0           0            0   \n",
       "2                 1                              0           0            0   \n",
       "\n",
       "   study room  swimming pool  type  waste disposal  \n",
       "0           0              0     0               1  \n",
       "1           0              0     1               0  \n",
       "2           1              0     1               1  \n",
       "\n",
       "[3 rows x 75 columns]"
      ]
     },
     "execution_count": 10,
     "metadata": {},
     "output_type": "execute_result"
    }
   ],
   "source": [
    "df.head(3)"
   ]
  },
  {
   "cell_type": "code",
   "execution_count": 11,
   "id": "bfb80e77",
   "metadata": {},
   "outputs": [
    {
     "data": {
      "text/plain": [
       "2    8312\n",
       "0    4910\n",
       "1    3428\n",
       "3    1962\n",
       "6    1851\n",
       "5    1292\n",
       "4    1267\n",
       "Name: location, dtype: int64"
      ]
     },
     "execution_count": 11,
     "metadata": {},
     "output_type": "execute_result"
    }
   ],
   "source": [
    "df[\"location\"].value_counts()"
   ]
  },
  {
   "cell_type": "code",
   "execution_count": null,
   "id": "2342681e",
   "metadata": {},
   "outputs": [],
   "source": []
  },
  {
   "cell_type": "code",
   "execution_count": null,
   "id": "020f5d76",
   "metadata": {},
   "outputs": [],
   "source": [
    "\n",
    "fig, ax = plt.subplots(figsize=(24, 18))\n",
    "\n",
    "hm = sns.heatmap(df.corr(), cbar=True, vmin=-0.5, vmax=0.5,\n",
    "                 fmt='.2f', annot_kws={'size': 3}, annot=True, \n",
    "                 square=True, cmap=plt.cm.Blues)\n",
    "\n",
    "plt.tight_layout()\n",
    "plt.savefig(\"corr_matrix_incl_anno_double.png\", dpi=300)"
   ]
  },
  {
   "cell_type": "code",
   "execution_count": null,
   "id": "8c68b926",
   "metadata": {},
   "outputs": [],
   "source": [
    "df.columns"
   ]
  },
  {
   "cell_type": "code",
   "execution_count": null,
   "id": "37e54f09",
   "metadata": {},
   "outputs": [],
   "source": [
    "df.corr()[df.corr()['price'] > 0.7]"
   ]
  },
  {
   "cell_type": "code",
   "execution_count": null,
   "id": "d7eb1bf3",
   "metadata": {},
   "outputs": [],
   "source": [
    "###area   baths beds  swimingpool type  waste disposal broadbandinternetaccess \n",
    "###built-in-year centralAC diningroom drawingroom floors gym intercom jacuzzi kitchens laundryrooms\n",
    "###lawnorgarden location loungeorsittingroom petpolicy powderroom prayerroom satellitecabletvready\n",
    "###servantquaters steamroom storeroom studyroom swimmingpool\n",
    "### other and nearby"
   ]
  },
  {
   "cell_type": "code",
   "execution_count": null,
   "id": "5b7043d6",
   "metadata": {},
   "outputs": [],
   "source": [
    "for x in df.columns:\n",
    "    w = df.corr()[df.corr()['price'] < 0.1][x]\n",
    "    print(x ,\"\\t\\t\" , w)\n",
    "    "
   ]
  },
  {
   "cell_type": "code",
   "execution_count": null,
   "id": "b75519c9",
   "metadata": {},
   "outputs": [],
   "source": [
    "df.columns"
   ]
  },
  {
   "cell_type": "code",
   "execution_count": null,
   "id": "dd1a9c19",
   "metadata": {},
   "outputs": [],
   "source": [
    "for x,i in enumerate (df.corr()['price']):\n",
    "    if i > 0.1 or i < -0.1:   \n",
    "        print(x , i)\n",
    "##1 5 7 8 9 12 13 21 23 24 31 35 36 38 40 41      akhir walay 6"
   ]
  },
  {
   "cell_type": "code",
   "execution_count": null,
   "id": "75977ce8",
   "metadata": {},
   "outputs": [],
   "source": [
    "df[[\"area\",\"\"]]"
   ]
  },
  {
   "cell_type": "code",
   "execution_count": null,
   "id": "e4d37559",
   "metadata": {},
   "outputs": [],
   "source": [
    "df.columns[59]"
   ]
  },
  {
   "cell_type": "code",
   "execution_count": null,
   "id": "84983bb2",
   "metadata": {},
   "outputs": [],
   "source": [
    "new_df = df[['area','baths','beds','broadband internet access','built in year','central air conditioning','central heating',\n",
    "            'dining room','double glazed windows','drawing room','floors','intercom','jacuzzi','kitchens','laundry room',\n",
    "            'lawn or garden','waste disposal','servant quarters','type','swimming pool','study room','prayer room','satellite or cable tv ready','store rooms','steam room','price']]"
   ]
  },
  {
   "cell_type": "code",
   "execution_count": null,
   "id": "52fd7d5c",
   "metadata": {},
   "outputs": [],
   "source": [
    "new_df.head(5)"
   ]
  },
  {
   "cell_type": "code",
   "execution_count": null,
   "id": "5dd7f56c",
   "metadata": {},
   "outputs": [],
   "source": [
    "new_df[\"built in year\"].unique()\n",
    "\n",
    "\n",
    "new_df.drop([\"built in year\"],axis=1,inplace=True)\n",
    "##droping built in year "
   ]
  },
  {
   "cell_type": "code",
   "execution_count": null,
   "id": "66542e03",
   "metadata": {},
   "outputs": [],
   "source": [
    "\n",
    "fig, ax = plt.subplots(figsize=(24, 18))\n",
    "\n",
    "hm = sns.heatmap(new_df.corr(), cbar=True, vmin=-0.5, vmax=0.5,\n",
    "                 fmt='.2f', annot_kws={'size': 3}, annot=True, \n",
    "                 square=True, cmap=plt.cm.Blues)\n",
    "\n",
    "plt.tight_layout()\n",
    "plt.savefig(\"corr_matrix_incl_anno_double.png\", dpi=500)"
   ]
  },
  {
   "cell_type": "code",
   "execution_count": null,
   "id": "fb795d2b",
   "metadata": {},
   "outputs": [],
   "source": [
    "##new_df.drop([\"double glazed windows\"],axis=1,inplace=True)\n",
    "##new_df.drop([\"intercom\"],axis=1,inplace=True)\n",
    "##new_df.drop([\"central heating\"],axis=1,inplace=True)\n",
    "##new_df.drop([\"steam room\"],axis=1,inplace=True)\n",
    "##new_df.drop([\"study room\"],axis=1,inplace=True)\n",
    "##new_df.drop([\"drawing room\"],axis=1,inplace=True)\n",
    "##new_df.drop([\"jacuzzi\"],axis=1,inplace=True\n",
    "new_df.drop([\"\"])\n",
    "\n",
    "\n"
   ]
  },
  {
   "cell_type": "code",
   "execution_count": null,
   "id": "8d964ced",
   "metadata": {},
   "outputs": [],
   "source": [
    "new_df"
   ]
  },
  {
   "cell_type": "code",
   "execution_count": null,
   "id": "e247f8f4",
   "metadata": {},
   "outputs": [],
   "source": [
    "sns.heatmap( new_df.corr() )"
   ]
  },
  {
   "cell_type": "code",
   "execution_count": null,
   "id": "088bbe69",
   "metadata": {},
   "outputs": [],
   "source": [
    "new_df.columns"
   ]
  },
  {
   "cell_type": "code",
   "execution_count": null,
   "id": "7056074a",
   "metadata": {},
   "outputs": [],
   "source": [
    "k"
   ]
  },
  {
   "cell_type": "code",
   "execution_count": null,
   "id": "420454ed",
   "metadata": {},
   "outputs": [],
   "source": []
  },
  {
   "cell_type": "code",
   "execution_count": null,
   "id": "7c2487a5",
   "metadata": {},
   "outputs": [],
   "source": [
    "X = z\n",
    "y = df[\"price\"]"
   ]
  },
  {
   "cell_type": "code",
   "execution_count": null,
   "id": "618943a1",
   "metadata": {},
   "outputs": [],
   "source": [
    "from sklearn.model_selection import train_test_split\n",
    "\n",
    "X_train, X_test, y_train, y_test = train_test_split(X, y, test_size=0.33, random_state=42)\n"
   ]
  },
  {
   "cell_type": "code",
   "execution_count": null,
   "id": "9804bd45",
   "metadata": {},
   "outputs": [],
   "source": [
    "from sklearn.linear_model import LinearRegression\n",
    "\n",
    "lr = LinearRegression()\n",
    "lr.fit(X_train,y_train)\n",
    "\n",
    "pred = lr.predict(X_test)\n",
    "\n"
   ]
  },
  {
   "cell_type": "code",
   "execution_count": null,
   "id": "b9240537",
   "metadata": {},
   "outputs": [],
   "source": [
    "from sklearn.metrics import r2_score\n",
    "\n",
    "r2_score(y_test,pred)\n"
   ]
  },
  {
   "cell_type": "code",
   "execution_count": null,
   "id": "94e27bea",
   "metadata": {},
   "outputs": [],
   "source": [
    "pred"
   ]
  },
  {
   "cell_type": "code",
   "execution_count": null,
   "id": "1da2c119",
   "metadata": {},
   "outputs": [],
   "source": [
    "from sklearn.metrics import mean_squared_error\n",
    "\n",
    "np.sqrt(   mean_squared_error(y_test,pred) ) "
   ]
  },
  {
   "cell_type": "code",
   "execution_count": null,
   "id": "0ab93c0c",
   "metadata": {},
   "outputs": [],
   "source": [
    "df[\"area\"] =  df[df[\"area\"] < 2000][\"area\"]\n",
    "\n",
    "df[\"price\"] =  df[df[\"price\"] < 51000000][\"price\"]"
   ]
  },
  {
   "cell_type": "code",
   "execution_count": null,
   "id": "ea574161",
   "metadata": {},
   "outputs": [],
   "source": [
    "df"
   ]
  },
  {
   "cell_type": "code",
   "execution_count": null,
   "id": "8b28b3f7",
   "metadata": {},
   "outputs": [],
   "source": [
    "sum(df[\"area\"] > 2000)"
   ]
  },
  {
   "cell_type": "code",
   "execution_count": null,
   "id": "f86d073c",
   "metadata": {},
   "outputs": [],
   "source": [
    "sum(df[\"price\"] > 200000000)"
   ]
  },
  {
   "cell_type": "code",
   "execution_count": null,
   "id": "e43dee53",
   "metadata": {},
   "outputs": [],
   "source": [
    "sns.boxplot(df['price'])"
   ]
  },
  {
   "cell_type": "code",
   "execution_count": null,
   "id": "5297416b",
   "metadata": {},
   "outputs": [],
   "source": [
    "df.columns"
   ]
  },
  {
   "cell_type": "code",
   "execution_count": null,
   "id": "7b8b2990",
   "metadata": {},
   "outputs": [],
   "source": [
    "for x in df.columns:\n",
    "    if len(df[x].unique()) > 2:\n",
    "        print( x, df[x].unique() ) "
   ]
  },
  {
   "cell_type": "code",
   "execution_count": null,
   "id": "7a7ade9e",
   "metadata": {},
   "outputs": [],
   "source": [
    "df.dropna(inplace=True)"
   ]
  },
  {
   "cell_type": "code",
   "execution_count": null,
   "id": "297f220f",
   "metadata": {},
   "outputs": [],
   "source": [
    "df.isna().sum()"
   ]
  },
  {
   "cell_type": "code",
   "execution_count": null,
   "id": "7a462ab1",
   "metadata": {},
   "outputs": [],
   "source": [
    "sns.distplot(df[\"price\"])"
   ]
  },
  {
   "cell_type": "code",
   "execution_count": null,
   "id": "88c2956b",
   "metadata": {},
   "outputs": [],
   "source": [
    "df.drop([\"built in year\"],inplace=True,axis=1)"
   ]
  },
  {
   "cell_type": "code",
   "execution_count": null,
   "id": "86216693",
   "metadata": {},
   "outputs": [],
   "source": []
  },
  {
   "cell_type": "code",
   "execution_count": null,
   "id": "e2b329a7",
   "metadata": {},
   "outputs": [],
   "source": [
    "data = df[[\"area\",\"baths\",\"beds\",\"broadband internet access\",\"central air conditioning\",\"floors\",\"kitchens\",\"lawn or garden\",\"waste disposal\",\"servant quarters\",\"type\",\"price\"]]"
   ]
  },
  {
   "cell_type": "code",
   "execution_count": null,
   "id": "8493c1a4",
   "metadata": {},
   "outputs": [],
   "source": [
    "data.head(3)"
   ]
  },
  {
   "cell_type": "code",
   "execution_count": null,
   "id": "a573c057",
   "metadata": {},
   "outputs": [],
   "source": [
    "data.describe()"
   ]
  },
  {
   "cell_type": "code",
   "execution_count": null,
   "id": "8b894e79",
   "metadata": {},
   "outputs": [],
   "source": [
    "X = data.drop(\"price\",axis=1)\n",
    "y = data[\"price\"]"
   ]
  },
  {
   "cell_type": "code",
   "execution_count": null,
   "id": "3940ae1d",
   "metadata": {},
   "outputs": [],
   "source": [
    "from sklearn.model_selection import train_test_split\n",
    "X_train, X_test, y_train, y_test = train_test_split(X, y, test_size=0.33, random_state=42)\n"
   ]
  },
  {
   "cell_type": "code",
   "execution_count": null,
   "id": "8a8addf3",
   "metadata": {},
   "outputs": [],
   "source": [
    "lr = LinearRegression()\n",
    "lr.fit(X_train,y_train)\n",
    "\n",
    "pred = lr.predict(X_test)"
   ]
  },
  {
   "cell_type": "code",
   "execution_count": null,
   "id": "bf0481db",
   "metadata": {},
   "outputs": [],
   "source": [
    "from sklearn.metrics import mean_squared_error\n",
    "\n",
    "print( r2_score(pred,y_test) )\n",
    "np.sqrt(   mean_squared_error(y_test,pred) ) \n",
    "\n"
   ]
  },
  {
   "cell_type": "code",
   "execution_count": null,
   "id": "4c5d3385",
   "metadata": {},
   "outputs": [],
   "source": [
    "sns.scatterplot(data[\"area\"],data[\"price\"])"
   ]
  },
  {
   "cell_type": "code",
   "execution_count": null,
   "id": "19d5e247",
   "metadata": {},
   "outputs": [],
   "source": [
    "from sklearn.tree import DecisionTreeRegressor\n",
    "DTR = DecisionTreeRegressor()\n",
    "\n",
    "DTR.fit(X_train,y_train)\n",
    "dtr_pred = DTR.predict(X_test)\n",
    "\n",
    "\n",
    "from sklearn.metrics import mean_squared_error,r2_score\n",
    "\n",
    "\n",
    "print( r2_score(dtr_pred,y_test) )\n",
    "np.sqrt(   mean_squared_error(y_test,dtr_pred) ) \n"
   ]
  },
  {
   "cell_type": "code",
   "execution_count": null,
   "id": "64e0c440",
   "metadata": {},
   "outputs": [],
   "source": [
    "from sklearn.ensemble import AdaBoostRegressor\n",
    "aR = AdaBoostRegressor()\n",
    "\n",
    "aR.fit(X_train,y_train)\n",
    "aR_pred = aR.predict(X_test)\n",
    "\n",
    "\n",
    "from sklearn.metrics import mean_squared_error,r2_score\n",
    "\n",
    "\n",
    "print( r2_score(aR_pred,y_test) )\n",
    "np.sqrt(   mean_squared_error(y_test,aR_pred) ) \n"
   ]
  },
  {
   "cell_type": "code",
   "execution_count": null,
   "id": "2550774c",
   "metadata": {},
   "outputs": [],
   "source": [
    "from sklearn.ensemble import GradientBoostingRegressor\n",
    "GBR = GradientBoostingRegressor()\n",
    "\n",
    "GBR.fit(X_train,y_train)\n",
    "GBR_pred = GBR.predict(X_test)\n",
    "\n",
    "\n",
    "from sklearn.metrics import mean_squared_error,r2_score\n",
    "\n",
    "\n",
    "print( r2_score(GBR_pred,y_test) )\n",
    "np.sqrt(   mean_squared_error(y_test,GBR_pred) ) "
   ]
  },
  {
   "cell_type": "code",
   "execution_count": null,
   "id": "111ab765",
   "metadata": {},
   "outputs": [],
   "source": [
    "from sklearn.ensemble import GradientBoostingRegressor\n",
    "GBR = GradientBoostingRegressor()\n",
    "\n",
    "GBR.fit(X_train,y_train)\n",
    "GBR_pred = GBR.predict(X_test)\n",
    "\n",
    "\n",
    "from sklearn.metrics import mean_squared_error,r2_score\n",
    "\n",
    "\n",
    "print( r2_score(GBR_pred,y_test) )\n",
    "np.sqrt(   mean_squared_error(y_test,GBR_pred) ) "
   ]
  }
 ],
 "metadata": {
  "kernelspec": {
   "display_name": "Python 3 (ipykernel)",
   "language": "python",
   "name": "python3"
  },
  "language_info": {
   "codemirror_mode": {
    "name": "ipython",
    "version": 3
   },
   "file_extension": ".py",
   "mimetype": "text/x-python",
   "name": "python",
   "nbconvert_exporter": "python",
   "pygments_lexer": "ipython3",
   "version": "3.9.7"
  }
 },
 "nbformat": 4,
 "nbformat_minor": 5
}
