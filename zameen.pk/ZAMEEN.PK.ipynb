{
 "cells": [
  {
   "cell_type": "markdown",
   "id": "7ec21d8c",
   "metadata": {},
   "source": [
    "## EXPLORATORY DATA ANALYSIS"
   ]
  },
  {
   "cell_type": "markdown",
   "id": "3f132773",
   "metadata": {},
   "source": [
    "### wrangling and visaulization"
   ]
  },
  {
   "cell_type": "code",
   "execution_count": 1,
   "id": "23be9c70",
   "metadata": {},
   "outputs": [],
   "source": [
    "##importing libaries\n",
    "\n",
    "import pandas as pd\n",
    "import numpy as np\n",
    "import seaborn as sns\n",
    "import matplotlib.pyplot as plt\n",
    "%matplotlib inline\n",
    "import warnings\n",
    "warnings.filterwarnings('ignore')"
   ]
  },
  {
   "cell_type": "code",
   "execution_count": 2,
   "id": "3b3fbe16",
   "metadata": {},
   "outputs": [
    {
     "data": {
      "text/html": [
       "<div>\n",
       "<style scoped>\n",
       "    .dataframe tbody tr th:only-of-type {\n",
       "        vertical-align: middle;\n",
       "    }\n",
       "\n",
       "    .dataframe tbody tr th {\n",
       "        vertical-align: top;\n",
       "    }\n",
       "\n",
       "    .dataframe thead th {\n",
       "        text-align: right;\n",
       "    }\n",
       "</style>\n",
       "<table border=\"1\" class=\"dataframe\">\n",
       "  <thead>\n",
       "    <tr style=\"text-align: right;\">\n",
       "      <th></th>\n",
       "      <th>area</th>\n",
       "      <th>atm machines</th>\n",
       "      <th>barbeque area</th>\n",
       "      <th>bathrooms</th>\n",
       "      <th>baths</th>\n",
       "      <th>bedrooms</th>\n",
       "      <th>beds</th>\n",
       "      <th>broadband internet access</th>\n",
       "      <th>built in year</th>\n",
       "      <th>business center or media room in building</th>\n",
       "      <th>...</th>\n",
       "      <th>North Nazimabad</th>\n",
       "      <th>Others</th>\n",
       "      <th>Scheme 33</th>\n",
       "      <th>Farm House</th>\n",
       "      <th>Flat</th>\n",
       "      <th>House</th>\n",
       "      <th>Lower Portion</th>\n",
       "      <th>Penthouse</th>\n",
       "      <th>Room</th>\n",
       "      <th>Upper Portion</th>\n",
       "    </tr>\n",
       "  </thead>\n",
       "  <tbody>\n",
       "    <tr>\n",
       "      <th>0</th>\n",
       "      <td>55</td>\n",
       "      <td>0</td>\n",
       "      <td>0</td>\n",
       "      <td>1</td>\n",
       "      <td>1</td>\n",
       "      <td>1</td>\n",
       "      <td>1</td>\n",
       "      <td>0</td>\n",
       "      <td>0</td>\n",
       "      <td>0</td>\n",
       "      <td>...</td>\n",
       "      <td>0</td>\n",
       "      <td>0</td>\n",
       "      <td>0</td>\n",
       "      <td>0</td>\n",
       "      <td>1</td>\n",
       "      <td>0</td>\n",
       "      <td>0</td>\n",
       "      <td>0</td>\n",
       "      <td>0</td>\n",
       "      <td>0</td>\n",
       "    </tr>\n",
       "    <tr>\n",
       "      <th>1</th>\n",
       "      <td>150</td>\n",
       "      <td>0</td>\n",
       "      <td>0</td>\n",
       "      <td>0</td>\n",
       "      <td>4</td>\n",
       "      <td>4</td>\n",
       "      <td>4</td>\n",
       "      <td>0</td>\n",
       "      <td>2022</td>\n",
       "      <td>0</td>\n",
       "      <td>...</td>\n",
       "      <td>0</td>\n",
       "      <td>0</td>\n",
       "      <td>0</td>\n",
       "      <td>0</td>\n",
       "      <td>0</td>\n",
       "      <td>1</td>\n",
       "      <td>0</td>\n",
       "      <td>0</td>\n",
       "      <td>0</td>\n",
       "      <td>0</td>\n",
       "    </tr>\n",
       "    <tr>\n",
       "      <th>2</th>\n",
       "      <td>500</td>\n",
       "      <td>0</td>\n",
       "      <td>0</td>\n",
       "      <td>6</td>\n",
       "      <td>6</td>\n",
       "      <td>5</td>\n",
       "      <td>5</td>\n",
       "      <td>0</td>\n",
       "      <td>0</td>\n",
       "      <td>0</td>\n",
       "      <td>...</td>\n",
       "      <td>0</td>\n",
       "      <td>0</td>\n",
       "      <td>0</td>\n",
       "      <td>0</td>\n",
       "      <td>0</td>\n",
       "      <td>1</td>\n",
       "      <td>0</td>\n",
       "      <td>0</td>\n",
       "      <td>0</td>\n",
       "      <td>0</td>\n",
       "    </tr>\n",
       "  </tbody>\n",
       "</table>\n",
       "<p>3 rows × 93 columns</p>\n",
       "</div>"
      ],
      "text/plain": [
       "   area  atm machines  barbeque area  bathrooms  baths  bedrooms  beds  \\\n",
       "0    55             0              0          1      1         1     1   \n",
       "1   150             0              0          0      4         4     4   \n",
       "2   500             0              0          6      6         5     5   \n",
       "\n",
       "   broadband internet access  built in year  \\\n",
       "0                          0              0   \n",
       "1                          0           2022   \n",
       "2                          0              0   \n",
       "\n",
       "   business center or media room in building  ...  North Nazimabad  Others  \\\n",
       "0                                          0  ...                0       0   \n",
       "1                                          0  ...                0       0   \n",
       "2                                          0  ...                0       0   \n",
       "\n",
       "   Scheme 33  Farm House  Flat  House  Lower Portion  Penthouse  Room  \\\n",
       "0          0           0     1      0              0          0     0   \n",
       "1          0           0     0      1              0          0     0   \n",
       "2          0           0     0      1              0          0     0   \n",
       "\n",
       "   Upper Portion  \n",
       "0              0  \n",
       "1              0  \n",
       "2              0  \n",
       "\n",
       "[3 rows x 93 columns]"
      ]
     },
     "execution_count": 2,
     "metadata": {},
     "output_type": "execute_result"
    }
   ],
   "source": [
    "##reading dataframes\n",
    "\n",
    "df = pd.read_csv(\"zameen_karachi_cleaned_data.csv\")     ##cleaned data\n",
    "raw_df = pd.read_csv(\"zameen-karachi-dataset.csv\")      ##not cleaned data\n",
    "\n",
    "df.head(3)"
   ]
  },
  {
   "cell_type": "code",
   "execution_count": 3,
   "id": "fdc72e77",
   "metadata": {},
   "outputs": [
    {
     "name": "stdout",
     "output_type": "stream",
     "text": [
      "<class 'pandas.core.frame.DataFrame'>\n",
      "RangeIndex: 23022 entries, 0 to 23021\n",
      "Data columns (total 93 columns):\n",
      " #   Column                                       Non-Null Count  Dtype\n",
      "---  ------                                       --------------  -----\n",
      " 0   area                                         23022 non-null  int64\n",
      " 1   atm machines                                 23022 non-null  int64\n",
      " 2   barbeque area                                23022 non-null  int64\n",
      " 3   bathrooms                                    23022 non-null  int64\n",
      " 4   baths                                        23022 non-null  int64\n",
      " 5   bedrooms                                     23022 non-null  int64\n",
      " 6   beds                                         23022 non-null  int64\n",
      " 7   broadband internet access                    23022 non-null  int64\n",
      " 8   built in year                                23022 non-null  int64\n",
      " 9   business center or media room in building    23022 non-null  int64\n",
      " 10  cctv security                                23022 non-null  int64\n",
      " 11  central air conditioning                     23022 non-null  int64\n",
      " 12  central heating                              23022 non-null  int64\n",
      " 13  communal/shared kitchen                      23022 non-null  int64\n",
      " 14  community centre                             23022 non-null  int64\n",
      " 15  community gym                                23022 non-null  int64\n",
      " 16  community lawn or garden                     23022 non-null  int64\n",
      " 17  community swimming pool                      23022 non-null  int64\n",
      " 18  conference room in building                  23022 non-null  int64\n",
      " 19  day care centre                              23022 non-null  int64\n",
      " 20  dining room                                  23022 non-null  int64\n",
      " 21  distance from airport (kms)                  23022 non-null  int64\n",
      " 22  double glazed windows                        23022 non-null  int64\n",
      " 23  drawing room                                 23022 non-null  int64\n",
      " 24  electricity backup                           23022 non-null  int64\n",
      " 25  elevators                                    23022 non-null  int64\n",
      " 26  facilities for disabled                      23022 non-null  int64\n",
      " 27  first aid or medical centre                  23022 non-null  int64\n",
      " 28  floor                                        23022 non-null  int64\n",
      " 29  flooring                                     23022 non-null  int64\n",
      " 30  floors                                       23022 non-null  int64\n",
      " 31  floors in building                           23022 non-null  int64\n",
      " 32  furnished                                    23022 non-null  int64\n",
      " 33  gym                                          23022 non-null  int64\n",
      " 34  intercom                                     23022 non-null  int64\n",
      " 35  jacuzzi                                      23022 non-null  int64\n",
      " 36  kids play area                               23022 non-null  int64\n",
      " 37  kitchens                                     23022 non-null  int64\n",
      " 38  laundry or dry cleaning facility             23022 non-null  int64\n",
      " 39  laundry room                                 23022 non-null  int64\n",
      " 40  lawn or garden                               23022 non-null  int64\n",
      " 41  lobby in building                            23022 non-null  int64\n",
      " 42  lounge or sitting room                       23022 non-null  int64\n",
      " 43  maintenance staff                            23022 non-null  int64\n",
      " 44  mosque                                       23022 non-null  int64\n",
      " 45  nearby hospitals                             23022 non-null  int64\n",
      " 46  nearby public transport service              23022 non-null  int64\n",
      " 47  nearby restaurants                           23022 non-null  int64\n",
      " 48  nearby schools                               23022 non-null  int64\n",
      " 49  nearby shopping malls                        23022 non-null  int64\n",
      " 50  other business and communication facilities  23022 non-null  int64\n",
      " 51  other community facilities                   23022 non-null  int64\n",
      " 52  other facilities                             23022 non-null  int64\n",
      " 53  other healthcare and recreation facilities   23022 non-null  int64\n",
      " 54  other main features                          23022 non-null  int64\n",
      " 55  other nearby places                          23022 non-null  int64\n",
      " 56  other rooms                                  23022 non-null  int64\n",
      " 57  parking spaces                               23022 non-null  int64\n",
      " 58  pet policy                                   23022 non-null  int64\n",
      " 59  powder room                                  23022 non-null  int64\n",
      " 60  prayer room                                  23022 non-null  int64\n",
      " 61  price                                        23022 non-null  int64\n",
      " 62  public parking                               23022 non-null  int64\n",
      " 63  satellite or cable tv ready                  23022 non-null  int64\n",
      " 64  sauna                                        23022 non-null  int64\n",
      " 65  security staff                               23022 non-null  int64\n",
      " 66  servant quarters                             23022 non-null  int64\n",
      " 67  service elevators in building                23022 non-null  int64\n",
      " 68  steam room                                   23022 non-null  int64\n",
      " 69  store rooms                                  23022 non-null  int64\n",
      " 70  study room                                   23022 non-null  int64\n",
      " 71  swimming pool                                23022 non-null  int64\n",
      " 72  waste disposal                               23022 non-null  int64\n",
      " 73  Bahria Town Karachi                          23022 non-null  int64\n",
      " 74  Cantt                                        23022 non-null  int64\n",
      " 75  Clifton                                      23022 non-null  int64\n",
      " 76  DHA Defence                                  23022 non-null  int64\n",
      " 77  Federal B Area                               23022 non-null  int64\n",
      " 78  Gadap Town                                   23022 non-null  int64\n",
      " 79  Gulistan-e-Jauhar                            23022 non-null  int64\n",
      " 80  Gulshan-e-Iqbal Town                         23022 non-null  int64\n",
      " 81  Jamshed Town                                 23022 non-null  int64\n",
      " 82  Malir                                        23022 non-null  int64\n",
      " 83  North Nazimabad                              23022 non-null  int64\n",
      " 84  Others                                       23022 non-null  int64\n",
      " 85  Scheme 33                                    23022 non-null  int64\n",
      " 86  Farm House                                   23022 non-null  int64\n",
      " 87  Flat                                         23022 non-null  int64\n",
      " 88  House                                        23022 non-null  int64\n",
      " 89  Lower Portion                                23022 non-null  int64\n",
      " 90  Penthouse                                    23022 non-null  int64\n",
      " 91  Room                                         23022 non-null  int64\n",
      " 92  Upper Portion                                23022 non-null  int64\n",
      "dtypes: int64(93)\n",
      "memory usage: 16.3 MB\n"
     ]
    }
   ],
   "source": [
    "df.info()"
   ]
  },
  {
   "cell_type": "code",
   "execution_count": null,
   "id": "fef9cc0d",
   "metadata": {},
   "outputs": [],
   "source": []
  },
  {
   "cell_type": "code",
   "execution_count": 4,
   "id": "6e5f9c42",
   "metadata": {},
   "outputs": [],
   "source": [
    "\n",
    "##def F_Location(x):\n",
    "##    if df[\"location\"].value_counts()[x] < 1000:\n",
    "##        df[df[\"location\"] == x][\"location\"] = 'Others'  \n",
    "    \n",
    "##for x in df[\"location\"]:\n",
    "##    F_Location(x)\n",
    "    "
   ]
  },
  {
   "cell_type": "markdown",
   "id": "722dec48",
   "metadata": {},
   "source": [
    "## handling outliers"
   ]
  },
  {
   "cell_type": "code",
   "execution_count": 5,
   "id": "75670aee",
   "metadata": {},
   "outputs": [
    {
     "data": {
      "text/plain": [
       "<AxesSubplot:xlabel='area', ylabel='price'>"
      ]
     },
     "execution_count": 5,
     "metadata": {},
     "output_type": "execute_result"
    },
    {
     "data": {
      "image/png": "[encoded data removed]",
      "text/plain": [
       "<Figure size 432x288 with 1 Axes>"
      ]
     },
     "metadata": {
      "needs_background": "light"
     },
     "output_type": "display_data"
    }
   ],
   "source": [
    "sns.scatterplot(df[\"area\"],df[\"price\"])"
   ]
  },
  {
   "cell_type": "code",
   "execution_count": 6,
   "id": "042c2024",
   "metadata": {},
   "outputs": [
    {
     "data": {
      "text/plain": [
       "Text(0.5, 1.0, 'Subplot 2')"
      ]
     },
     "execution_count": 6,
     "metadata": {},
     "output_type": "execute_result"
    },
    {
     "data": {
      "image/png": "[encoded data removed]",
      "text/plain": [
       "<Figure size 864x576 with 2 Axes>"
      ]
     },
     "metadata": {
      "needs_background": "light"
     },
     "output_type": "display_data"
    }
   ],
   "source": [
    "plt.figure(figsize=(12, 8))\n",
    "plt.subplot(2,2,1)      \n",
    "sns.boxplot(df['price'])\n",
    "plt.title('Subplot 1')\n",
    "plt.subplot(2,2,2)    \n",
    "sns.distplot(df[\"price\"])\n",
    "plt.title('Subplot 2')"
   ]
  },
  {
   "cell_type": "code",
   "execution_count": 7,
   "id": "6e109f0b",
   "metadata": {},
   "outputs": [],
   "source": [
    "df = df[df[\"area\"] < 500]  ##1500\n",
    "df = df[df['price'] < 51000000]  ##51000000"
   ]
  },
  {
   "cell_type": "code",
   "execution_count": 8,
   "id": "458cd128",
   "metadata": {},
   "outputs": [
    {
     "data": {
      "text/plain": [
       "Text(0.5, 1.0, 'after removing outliers')"
      ]
     },
     "execution_count": 8,
     "metadata": {},
     "output_type": "execute_result"
    },
    {
     "data": {
      "image/png": "[encoded data removed]",
      "text/plain": [
       "<Figure size 432x288 with 1 Axes>"
      ]
     },
     "metadata": {
      "needs_background": "light"
     },
     "output_type": "display_data"
    }
   ],
   "source": [
    "sns.scatterplot(df[\"area\"],df[\"price\"])\n",
    "\n",
    "plt.title(\"after removing outliers\")"
   ]
  },
  {
   "cell_type": "code",
   "execution_count": 9,
   "id": "318bea54",
   "metadata": {},
   "outputs": [
    {
     "data": {
      "text/plain": [
       "Text(0.5, 1.0, 'Subplot 2')"
      ]
     },
     "execution_count": 9,
     "metadata": {},
     "output_type": "execute_result"
    },
    {
     "data": {
      "image/png": "[encoded data removed]",
      "text/plain": [
       "<Figure size 864x576 with 2 Axes>"
      ]
     },
     "metadata": {
      "needs_background": "light"
     },
     "output_type": "display_data"
    }
   ],
   "source": [
    "plt.figure(figsize=(12, 8))\n",
    "plt.subplot(2,2,1)      \n",
    "sns.boxplot(df['price'])\n",
    "plt.title('Subplot 1')\n",
    "plt.subplot(2,2,2)    \n",
    "sns.distplot(df[\"price\"])\n",
    "plt.title('Subplot 2')\n"
   ]
  },
  {
   "cell_type": "code",
   "execution_count": 10,
   "id": "ef44e248",
   "metadata": {},
   "outputs": [
    {
     "name": "stdout",
     "output_type": "stream",
     "text": [
      "House            10691\n",
      "Flat             10462\n",
      "Upper Portion     1340\n",
      "Lower Portion      403\n",
      "Penthouse          114\n",
      "Farm House          10\n",
      "Room                 2\n",
      "Name: type, dtype: int64\n"
     ]
    },
    {
     "data": {
      "text/plain": [
       "<AxesSubplot:xlabel='type', ylabel='count'>"
      ]
     },
     "execution_count": 10,
     "metadata": {},
     "output_type": "execute_result"
    },
    {
     "data": {
      "image/png": "[encoded data removed]",
      "text/plain": [
       "<Figure size 864x432 with 1 Axes>"
      ]
     },
     "metadata": {
      "needs_background": "light"
     },
     "output_type": "display_data"
    }
   ],
   "source": [
    "print( raw_df.type.value_counts()  )\n",
    "\n",
    "plt.figure(figsize=(12, 6))\n",
    "sns.countplot(raw_df[\"type\"])"
   ]
  },
  {
   "cell_type": "code",
   "execution_count": 11,
   "id": "3fea02da",
   "metadata": {},
   "outputs": [
    {
     "data": {
      "text/plain": [
       "110125.24490489769"
      ]
     },
     "execution_count": 11,
     "metadata": {},
     "output_type": "execute_result"
    }
   ],
   "source": [
    "## making new column to analyze data more througly\n",
    "df[\"price per sq yard\"] =  df['price'] / df['area'] \n",
    "df[\"price per sq yard\"].mean()"
   ]
  },
  {
   "cell_type": "code",
   "execution_count": 12,
   "id": "fcb363e8",
   "metadata": {},
   "outputs": [
    {
     "data": {
      "text/plain": [
       "Text(0.5, 1.0, 'Subplot 2')"
      ]
     },
     "execution_count": 12,
     "metadata": {},
     "output_type": "execute_result"
    },
    {
     "data": {
      "image/png": "[encoded data removed]",
      "text/plain": [
       "<Figure size 864x576 with 2 Axes>"
      ]
     },
     "metadata": {
      "needs_background": "light"
     },
     "output_type": "display_data"
    }
   ],
   "source": [
    "plt.figure(figsize=(12, 8))\n",
    "plt.subplot(2,2,1)      \n",
    "sns.boxplot(df['price per sq yard'])\n",
    "plt.title('Subplot 1')\n",
    "plt.subplot(2,2,2)    \n",
    "sns.distplot(df[\"price per sq yard\"])\n",
    "plt.title('Subplot 2')\n"
   ]
  },
  {
   "cell_type": "code",
   "execution_count": 13,
   "id": "41d64d71",
   "metadata": {},
   "outputs": [],
   "source": [
    "\n",
    "df = df[df['price per sq yard'] < 200000]  \n",
    "\n",
    "df = df[df['price per sq yard'] > 40000]\n",
    "\n",
    "df[\"price per sq yard\"] = df[\"price per sq yard\"].astype(float).astype(int)"
   ]
  },
  {
   "cell_type": "code",
   "execution_count": 14,
   "id": "53c0e5b0",
   "metadata": {},
   "outputs": [
    {
     "data": {
      "text/plain": [
       "Text(0.5, 1.0, 'Subplot 2')"
      ]
     },
     "execution_count": 14,
     "metadata": {},
     "output_type": "execute_result"
    },
    {
     "data": {
      "image/png": "[encoded data removed]",
      "text/plain": [
       "<Figure size 864x576 with 2 Axes>"
      ]
     },
     "metadata": {
      "needs_background": "light"
     },
     "output_type": "display_data"
    }
   ],
   "source": [
    "plt.figure(figsize=(12, 8))\n",
    "plt.subplot(2,2,1)      \n",
    "sns.boxplot(df['price per sq yard'])\n",
    "plt.title('Subplot 1')\n",
    "plt.subplot(2,2,2)    \n",
    "sns.distplot(df[\"price per sq yard\"])\n",
    "plt.title('Subplot 2')\n"
   ]
  },
  {
   "cell_type": "code",
   "execution_count": 15,
   "id": "ffc192c3",
   "metadata": {},
   "outputs": [
    {
     "data": {
      "text/plain": [
       "(16624, 94)"
      ]
     },
     "execution_count": 15,
     "metadata": {},
     "output_type": "execute_result"
    }
   ],
   "source": [
    "df.shape"
   ]
  },
  {
   "cell_type": "code",
   "execution_count": 16,
   "id": "fe881443",
   "metadata": {},
   "outputs": [
    {
     "data": {
      "text/plain": [
       "array([   0, 2022, 2021,    1, 2020, 2018, 2017, 2015, 2019, 2010, 2013,\n",
       "       2000, 1985, 1996, 2016, 2023, 2024, 2012, 1995, 2008, 1990, 2014,\n",
       "         90,    3,   15,    2, 2003, 2011,    5,    4, 2025, 1999,   20,\n",
       "       2001, 2005, 2002, 1998, 2026,   10, 2006,  240,    6, 1994,    8,\n",
       "         24, 2007, 2009,    9,   12,    7, 2004, 1992, 1986, 1980,   18,\n",
       "       1997,   25, 1989, 1987,  202,  650,   50, 1200, 1984, 1970,   40,\n",
       "       1975], dtype=int64)"
      ]
     },
     "execution_count": 16,
     "metadata": {},
     "output_type": "execute_result"
    }
   ],
   "source": [
    "df[\"built in year\"].unique()"
   ]
  },
  {
   "cell_type": "code",
   "execution_count": 17,
   "id": "1aa01626",
   "metadata": {},
   "outputs": [],
   "source": [
    "df.drop([\"built in year\"],axis=1,inplace=True)"
   ]
  },
  {
   "cell_type": "raw",
   "id": "2706920f",
   "metadata": {},
   "source": [
    "raw_df[raw_df['type'] == \"Flat\"][\"price\"].mean()    ####   {0 : \"House\", 1 : \"Flat\", 2 : \"Upper Portion\", 3: \"Lower Portion\", 4 : \"Pent House\", 5 :\"Farm House\", 6 : \"Room\"}\n",
    "\n",
    "## A function that tell you Average saling price of that Type of property\n",
    "## input type \" {1 to 6}\" \n",
    "## output mean of that type\n",
    "def Price_byType(x=0):\n",
    "    a = raw_df[raw_df['type'] == x][\"price\"].mean() \n",
    "    print(\"Average saling price of \",x, \"Type is \",a)\n",
    "    \n",
    "Price_byType(1)\n",
    "\n"
   ]
  },
  {
   "cell_type": "raw",
   "id": "db556b01",
   "metadata": {},
   "source": [
    "for x in raw_df[\"type\"].unique():\n",
    "    m= df[raw_df['type'] == x][\"price\"].mean()\n",
    "    \n",
    "    print(x , m)"
   ]
  },
  {
   "cell_type": "raw",
   "id": "17b3f98c",
   "metadata": {},
   "source": [
    "## A function that tell you Average saling price in certian location\n",
    "## input Locaiton\n",
    "## output mean of that location\n",
    "def Price_byLocation(x=0):\n",
    "    a = df[df['location'] == x][\"price\"].mean() \n",
    "    print(\"Average saling price in \",x, \" is \",a)\n",
    "    \n",
    "Price_byLocation(0)\n",
    "\n"
   ]
  },
  {
   "cell_type": "raw",
   "id": "4ca0370b",
   "metadata": {},
   "source": [
    "def Price_by_LocationAndType(typee=0,location=0):\n",
    "    p = df[(df['type']==3) & (df['location']==3) ][\"price\"].mean()\n",
    "    print(\"Average price of\", typee ,\"in\", location,\"is\", p)\n",
    "\n",
    "Price_by_LocationAndType()"
   ]
  },
  {
   "cell_type": "code",
   "execution_count": null,
   "id": "32810523",
   "metadata": {},
   "outputs": [],
   "source": []
  },
  {
   "cell_type": "code",
   "execution_count": 22,
   "id": "dae665bd",
   "metadata": {},
   "outputs": [
    {
     "data": {
      "text/html": [
       "<div>\n",
       "<style scoped>\n",
       "    .dataframe tbody tr th:only-of-type {\n",
       "        vertical-align: middle;\n",
       "    }\n",
       "\n",
       "    .dataframe tbody tr th {\n",
       "        vertical-align: top;\n",
       "    }\n",
       "\n",
       "    .dataframe thead th {\n",
       "        text-align: right;\n",
       "    }\n",
       "</style>\n",
       "<table border=\"1\" class=\"dataframe\">\n",
       "  <thead>\n",
       "    <tr style=\"text-align: right;\">\n",
       "      <th></th>\n",
       "      <th>area</th>\n",
       "      <th>atm machines</th>\n",
       "      <th>barbeque area</th>\n",
       "      <th>bathrooms</th>\n",
       "      <th>baths</th>\n",
       "      <th>bedrooms</th>\n",
       "      <th>beds</th>\n",
       "      <th>broadband internet access</th>\n",
       "      <th>business center or media room in building</th>\n",
       "      <th>cctv security</th>\n",
       "      <th>...</th>\n",
       "      <th>Others</th>\n",
       "      <th>Scheme 33</th>\n",
       "      <th>Farm House</th>\n",
       "      <th>Flat</th>\n",
       "      <th>House</th>\n",
       "      <th>Lower Portion</th>\n",
       "      <th>Penthouse</th>\n",
       "      <th>Room</th>\n",
       "      <th>Upper Portion</th>\n",
       "      <th>price per sq yard</th>\n",
       "    </tr>\n",
       "  </thead>\n",
       "  <tbody>\n",
       "    <tr>\n",
       "      <th>area</th>\n",
       "      <td>1.000000</td>\n",
       "      <td>-0.009062</td>\n",
       "      <td>0.048390</td>\n",
       "      <td>0.212776</td>\n",
       "      <td>0.522740</td>\n",
       "      <td>0.015457</td>\n",
       "      <td>0.488626</td>\n",
       "      <td>0.009471</td>\n",
       "      <td>-0.015775</td>\n",
       "      <td>NaN</td>\n",
       "      <td>...</td>\n",
       "      <td>-0.151920</td>\n",
       "      <td>-0.062425</td>\n",
       "      <td>NaN</td>\n",
       "      <td>-0.252797</td>\n",
       "      <td>0.218772</td>\n",
       "      <td>0.061541</td>\n",
       "      <td>0.070014</td>\n",
       "      <td>-0.007545</td>\n",
       "      <td>0.031056</td>\n",
       "      <td>0.147289</td>\n",
       "    </tr>\n",
       "    <tr>\n",
       "      <th>atm machines</th>\n",
       "      <td>-0.009062</td>\n",
       "      <td>1.000000</td>\n",
       "      <td>0.341725</td>\n",
       "      <td>0.020897</td>\n",
       "      <td>-0.059500</td>\n",
       "      <td>-0.000183</td>\n",
       "      <td>-0.084453</td>\n",
       "      <td>0.480841</td>\n",
       "      <td>0.665820</td>\n",
       "      <td>NaN</td>\n",
       "      <td>...</td>\n",
       "      <td>0.063893</td>\n",
       "      <td>-0.040040</td>\n",
       "      <td>NaN</td>\n",
       "      <td>0.220580</td>\n",
       "      <td>-0.178200</td>\n",
       "      <td>-0.036412</td>\n",
       "      <td>-0.017550</td>\n",
       "      <td>-0.001995</td>\n",
       "      <td>-0.070303</td>\n",
       "      <td>0.020690</td>\n",
       "    </tr>\n",
       "    <tr>\n",
       "      <th>barbeque area</th>\n",
       "      <td>0.048390</td>\n",
       "      <td>0.341725</td>\n",
       "      <td>1.000000</td>\n",
       "      <td>0.112301</td>\n",
       "      <td>0.014708</td>\n",
       "      <td>0.012789</td>\n",
       "      <td>0.006777</td>\n",
       "      <td>0.410447</td>\n",
       "      <td>0.309464</td>\n",
       "      <td>NaN</td>\n",
       "      <td>...</td>\n",
       "      <td>-0.039003</td>\n",
       "      <td>-0.054703</td>\n",
       "      <td>NaN</td>\n",
       "      <td>-0.072654</td>\n",
       "      <td>0.111661</td>\n",
       "      <td>-0.030944</td>\n",
       "      <td>-0.027424</td>\n",
       "      <td>-0.003118</td>\n",
       "      <td>-0.037912</td>\n",
       "      <td>0.064026</td>\n",
       "    </tr>\n",
       "    <tr>\n",
       "      <th>bathrooms</th>\n",
       "      <td>0.212776</td>\n",
       "      <td>0.020897</td>\n",
       "      <td>0.112301</td>\n",
       "      <td>1.000000</td>\n",
       "      <td>0.260779</td>\n",
       "      <td>0.086043</td>\n",
       "      <td>0.221740</td>\n",
       "      <td>0.102696</td>\n",
       "      <td>-0.005855</td>\n",
       "      <td>NaN</td>\n",
       "      <td>...</td>\n",
       "      <td>-0.071932</td>\n",
       "      <td>-0.024163</td>\n",
       "      <td>NaN</td>\n",
       "      <td>-0.114889</td>\n",
       "      <td>0.181363</td>\n",
       "      <td>-0.032844</td>\n",
       "      <td>-0.045742</td>\n",
       "      <td>-0.005968</td>\n",
       "      <td>-0.076944</td>\n",
       "      <td>0.130837</td>\n",
       "    </tr>\n",
       "    <tr>\n",
       "      <th>baths</th>\n",
       "      <td>0.522740</td>\n",
       "      <td>-0.059500</td>\n",
       "      <td>0.014708</td>\n",
       "      <td>0.260779</td>\n",
       "      <td>1.000000</td>\n",
       "      <td>0.024822</td>\n",
       "      <td>0.900673</td>\n",
       "      <td>0.023291</td>\n",
       "      <td>-0.060355</td>\n",
       "      <td>NaN</td>\n",
       "      <td>...</td>\n",
       "      <td>-0.058899</td>\n",
       "      <td>0.130908</td>\n",
       "      <td>NaN</td>\n",
       "      <td>-0.428794</td>\n",
       "      <td>0.474999</td>\n",
       "      <td>-0.010228</td>\n",
       "      <td>0.009581</td>\n",
       "      <td>-0.007100</td>\n",
       "      <td>-0.039044</td>\n",
       "      <td>0.469456</td>\n",
       "    </tr>\n",
       "    <tr>\n",
       "      <th>...</th>\n",
       "      <td>...</td>\n",
       "      <td>...</td>\n",
       "      <td>...</td>\n",
       "      <td>...</td>\n",
       "      <td>...</td>\n",
       "      <td>...</td>\n",
       "      <td>...</td>\n",
       "      <td>...</td>\n",
       "      <td>...</td>\n",
       "      <td>...</td>\n",
       "      <td>...</td>\n",
       "      <td>...</td>\n",
       "      <td>...</td>\n",
       "      <td>...</td>\n",
       "      <td>...</td>\n",
       "      <td>...</td>\n",
       "      <td>...</td>\n",
       "      <td>...</td>\n",
       "      <td>...</td>\n",
       "      <td>...</td>\n",
       "      <td>...</td>\n",
       "    </tr>\n",
       "    <tr>\n",
       "      <th>Lower Portion</th>\n",
       "      <td>0.061541</td>\n",
       "      <td>-0.036412</td>\n",
       "      <td>-0.030944</td>\n",
       "      <td>-0.032844</td>\n",
       "      <td>-0.010228</td>\n",
       "      <td>-0.002950</td>\n",
       "      <td>-0.009308</td>\n",
       "      <td>-0.019118</td>\n",
       "      <td>-0.040061</td>\n",
       "      <td>NaN</td>\n",
       "      <td>...</td>\n",
       "      <td>0.010292</td>\n",
       "      <td>-0.018738</td>\n",
       "      <td>NaN</td>\n",
       "      <td>-0.174500</td>\n",
       "      <td>-0.109472</td>\n",
       "      <td>1.000000</td>\n",
       "      <td>-0.010531</td>\n",
       "      <td>-0.001197</td>\n",
       "      <td>-0.044439</td>\n",
       "      <td>-0.063445</td>\n",
       "    </tr>\n",
       "    <tr>\n",
       "      <th>Penthouse</th>\n",
       "      <td>0.070014</td>\n",
       "      <td>-0.017550</td>\n",
       "      <td>-0.027424</td>\n",
       "      <td>-0.045742</td>\n",
       "      <td>0.009581</td>\n",
       "      <td>-0.006597</td>\n",
       "      <td>0.004630</td>\n",
       "      <td>-0.026702</td>\n",
       "      <td>-0.019061</td>\n",
       "      <td>NaN</td>\n",
       "      <td>...</td>\n",
       "      <td>0.010986</td>\n",
       "      <td>-0.018666</td>\n",
       "      <td>NaN</td>\n",
       "      <td>-0.077104</td>\n",
       "      <td>-0.048371</td>\n",
       "      <td>-0.010531</td>\n",
       "      <td>1.000000</td>\n",
       "      <td>-0.000529</td>\n",
       "      <td>-0.019636</td>\n",
       "      <td>-0.023555</td>\n",
       "    </tr>\n",
       "    <tr>\n",
       "      <th>Room</th>\n",
       "      <td>-0.007545</td>\n",
       "      <td>-0.001995</td>\n",
       "      <td>-0.003118</td>\n",
       "      <td>-0.005968</td>\n",
       "      <td>-0.007100</td>\n",
       "      <td>-0.000859</td>\n",
       "      <td>-0.007079</td>\n",
       "      <td>-0.003801</td>\n",
       "      <td>-0.002167</td>\n",
       "      <td>NaN</td>\n",
       "      <td>...</td>\n",
       "      <td>-0.003404</td>\n",
       "      <td>-0.002122</td>\n",
       "      <td>NaN</td>\n",
       "      <td>-0.008767</td>\n",
       "      <td>-0.005500</td>\n",
       "      <td>-0.001197</td>\n",
       "      <td>-0.000529</td>\n",
       "      <td>1.000000</td>\n",
       "      <td>-0.002233</td>\n",
       "      <td>-0.003465</td>\n",
       "    </tr>\n",
       "    <tr>\n",
       "      <th>Upper Portion</th>\n",
       "      <td>0.031056</td>\n",
       "      <td>-0.070303</td>\n",
       "      <td>-0.037912</td>\n",
       "      <td>-0.076944</td>\n",
       "      <td>-0.039044</td>\n",
       "      <td>-0.011978</td>\n",
       "      <td>-0.031037</td>\n",
       "      <td>-0.019073</td>\n",
       "      <td>-0.076940</td>\n",
       "      <td>NaN</td>\n",
       "      <td>...</td>\n",
       "      <td>0.064293</td>\n",
       "      <td>-0.027206</td>\n",
       "      <td>NaN</td>\n",
       "      <td>-0.325352</td>\n",
       "      <td>-0.204108</td>\n",
       "      <td>-0.044439</td>\n",
       "      <td>-0.019636</td>\n",
       "      <td>-0.002233</td>\n",
       "      <td>1.000000</td>\n",
       "      <td>-0.133876</td>\n",
       "    </tr>\n",
       "    <tr>\n",
       "      <th>price per sq yard</th>\n",
       "      <td>0.147289</td>\n",
       "      <td>0.020690</td>\n",
       "      <td>0.064026</td>\n",
       "      <td>0.130837</td>\n",
       "      <td>0.469456</td>\n",
       "      <td>0.013139</td>\n",
       "      <td>0.423106</td>\n",
       "      <td>0.076064</td>\n",
       "      <td>0.047599</td>\n",
       "      <td>NaN</td>\n",
       "      <td>...</td>\n",
       "      <td>-0.022622</td>\n",
       "      <td>0.053011</td>\n",
       "      <td>NaN</td>\n",
       "      <td>-0.247348</td>\n",
       "      <td>0.359299</td>\n",
       "      <td>-0.063445</td>\n",
       "      <td>-0.023555</td>\n",
       "      <td>-0.003465</td>\n",
       "      <td>-0.133876</td>\n",
       "      <td>1.000000</td>\n",
       "    </tr>\n",
       "  </tbody>\n",
       "</table>\n",
       "<p>93 rows × 93 columns</p>\n",
       "</div>"
      ],
      "text/plain": [
       "                       area  atm machines  barbeque area  bathrooms     baths  \\\n",
       "area               1.000000     -0.009062       0.048390   0.212776  0.522740   \n",
       "atm machines      -0.009062      1.000000       0.341725   0.020897 -0.059500   \n",
       "barbeque area      0.048390      0.341725       1.000000   0.112301  0.014708   \n",
       "bathrooms          0.212776      0.020897       0.112301   1.000000  0.260779   \n",
       "baths              0.522740     -0.059500       0.014708   0.260779  1.000000   \n",
       "...                     ...           ...            ...        ...       ...   \n",
       "Lower Portion      0.061541     -0.036412      -0.030944  -0.032844 -0.010228   \n",
       "Penthouse          0.070014     -0.017550      -0.027424  -0.045742  0.009581   \n",
       "Room              -0.007545     -0.001995      -0.003118  -0.005968 -0.007100   \n",
       "Upper Portion      0.031056     -0.070303      -0.037912  -0.076944 -0.039044   \n",
       "price per sq yard  0.147289      0.020690       0.064026   0.130837  0.469456   \n",
       "\n",
       "                   bedrooms      beds  broadband internet access  \\\n",
       "area               0.015457  0.488626                   0.009471   \n",
       "atm machines      -0.000183 -0.084453                   0.480841   \n",
       "barbeque area      0.012789  0.006777                   0.410447   \n",
       "bathrooms          0.086043  0.221740                   0.102696   \n",
       "baths              0.024822  0.900673                   0.023291   \n",
       "...                     ...       ...                        ...   \n",
       "Lower Portion     -0.002950 -0.009308                  -0.019118   \n",
       "Penthouse         -0.006597  0.004630                  -0.026702   \n",
       "Room              -0.000859 -0.007079                  -0.003801   \n",
       "Upper Portion     -0.011978 -0.031037                  -0.019073   \n",
       "price per sq yard  0.013139  0.423106                   0.076064   \n",
       "\n",
       "                   business center or media room in building  cctv security  \\\n",
       "area                                               -0.015775            NaN   \n",
       "atm machines                                        0.665820            NaN   \n",
       "barbeque area                                       0.309464            NaN   \n",
       "bathrooms                                          -0.005855            NaN   \n",
       "baths                                              -0.060355            NaN   \n",
       "...                                                      ...            ...   \n",
       "Lower Portion                                      -0.040061            NaN   \n",
       "Penthouse                                          -0.019061            NaN   \n",
       "Room                                               -0.002167            NaN   \n",
       "Upper Portion                                      -0.076940            NaN   \n",
       "price per sq yard                                   0.047599            NaN   \n",
       "\n",
       "                   ...    Others  Scheme 33  Farm House      Flat     House  \\\n",
       "area               ... -0.151920  -0.062425         NaN -0.252797  0.218772   \n",
       "atm machines       ...  0.063893  -0.040040         NaN  0.220580 -0.178200   \n",
       "barbeque area      ... -0.039003  -0.054703         NaN -0.072654  0.111661   \n",
       "bathrooms          ... -0.071932  -0.024163         NaN -0.114889  0.181363   \n",
       "baths              ... -0.058899   0.130908         NaN -0.428794  0.474999   \n",
       "...                ...       ...        ...         ...       ...       ...   \n",
       "Lower Portion      ...  0.010292  -0.018738         NaN -0.174500 -0.109472   \n",
       "Penthouse          ...  0.010986  -0.018666         NaN -0.077104 -0.048371   \n",
       "Room               ... -0.003404  -0.002122         NaN -0.008767 -0.005500   \n",
       "Upper Portion      ...  0.064293  -0.027206         NaN -0.325352 -0.204108   \n",
       "price per sq yard  ... -0.022622   0.053011         NaN -0.247348  0.359299   \n",
       "\n",
       "                   Lower Portion  Penthouse      Room  Upper Portion  \\\n",
       "area                    0.061541   0.070014 -0.007545       0.031056   \n",
       "atm machines           -0.036412  -0.017550 -0.001995      -0.070303   \n",
       "barbeque area          -0.030944  -0.027424 -0.003118      -0.037912   \n",
       "bathrooms              -0.032844  -0.045742 -0.005968      -0.076944   \n",
       "baths                  -0.010228   0.009581 -0.007100      -0.039044   \n",
       "...                          ...        ...       ...            ...   \n",
       "Lower Portion           1.000000  -0.010531 -0.001197      -0.044439   \n",
       "Penthouse              -0.010531   1.000000 -0.000529      -0.019636   \n",
       "Room                   -0.001197  -0.000529  1.000000      -0.002233   \n",
       "Upper Portion          -0.044439  -0.019636 -0.002233       1.000000   \n",
       "price per sq yard      -0.063445  -0.023555 -0.003465      -0.133876   \n",
       "\n",
       "                   price per sq yard  \n",
       "area                        0.147289  \n",
       "atm machines                0.020690  \n",
       "barbeque area               0.064026  \n",
       "bathrooms                   0.130837  \n",
       "baths                       0.469456  \n",
       "...                              ...  \n",
       "Lower Portion              -0.063445  \n",
       "Penthouse                  -0.023555  \n",
       "Room                       -0.003465  \n",
       "Upper Portion              -0.133876  \n",
       "price per sq yard           1.000000  \n",
       "\n",
       "[93 rows x 93 columns]"
      ]
     },
     "execution_count": 22,
     "metadata": {},
     "output_type": "execute_result"
    }
   ],
   "source": [
    "df.corr()"
   ]
  },
  {
   "cell_type": "code",
   "execution_count": 23,
   "id": "59fb6a16",
   "metadata": {},
   "outputs": [
    {
     "data": {
      "text/plain": [
       "swimming pool           0.054378\n",
       "waste disposal          0.126220\n",
       "Bahria Town Karachi    -0.009962\n",
       "Cantt                   0.257953\n",
       "Clifton                 0.170770\n",
       "DHA Defence            -0.040876\n",
       "Federal B Area         -0.087408\n",
       "Gadap Town             -0.036734\n",
       "Gulistan-e-Jauhar       0.008005\n",
       "Gulshan-e-Iqbal Town   -0.004810\n",
       "Name: price, dtype: float64"
      ]
     },
     "execution_count": 23,
     "metadata": {},
     "output_type": "execute_result"
    }
   ],
   "source": [
    "df.corr()[\"price\"][70:80]    ##nearby  ##other"
   ]
  },
  {
   "cell_type": "markdown",
   "id": "599e0dba",
   "metadata": {},
   "source": [
    "\n",
    "fig, ax = plt.subplots(figsize=(24, 18))\n",
    "\n",
    "hm = sns.heatmap(df.corr(), cbar=True, vmin=-0.5, vmax=0.5,\n",
    "                 fmt='.2f', annot_kws={'size': 3}, annot=True, \n",
    "                 square=True, cmap=plt.cm.Blues)\n",
    "\n",
    "plt.tight_layout()\n",
    "plt.savefig(\"corr_matrix_incl_anno_double.png\", dpi=300)"
   ]
  },
  {
   "cell_type": "code",
   "execution_count": 33,
   "id": "e951721c",
   "metadata": {},
   "outputs": [],
   "source": [
    "new_df = df[['area','baths','beds',\"bathrooms\",'dining room','distance from airport (kms)','drawing room',\n",
    "             'electricity backup',\"flooring\",\"floors\",'kids play area','kitchens','lounge or sitting room','study room','waste disposal','price per sq yard','price','Flat', 'House', 'Lower Portion',\n",
    "       'Penthouse', 'Room', 'Upper Portion','Bahria Town Karachi', 'Cantt', 'Clifton', 'DHA Defence',\n",
    "       'Federal B Area', 'Gadap Town', 'Gulistan-e-Jauhar',\n",
    "       'Gulshan-e-Iqbal Town', 'Jamshed Town', 'Malir', 'North Nazimabad',\n",
    "       'Others', 'Scheme 33']]"
   ]
  },
  {
   "cell_type": "code",
   "execution_count": 34,
   "id": "1e9235b7",
   "metadata": {},
   "outputs": [
    {
     "data": {
      "text/html": [
       "<div>\n",
       "<style scoped>\n",
       "    .dataframe tbody tr th:only-of-type {\n",
       "        vertical-align: middle;\n",
       "    }\n",
       "\n",
       "    .dataframe tbody tr th {\n",
       "        vertical-align: top;\n",
       "    }\n",
       "\n",
       "    .dataframe thead th {\n",
       "        text-align: right;\n",
       "    }\n",
       "</style>\n",
       "<table border=\"1\" class=\"dataframe\">\n",
       "  <thead>\n",
       "    <tr style=\"text-align: right;\">\n",
       "      <th></th>\n",
       "      <th>area</th>\n",
       "      <th>baths</th>\n",
       "      <th>beds</th>\n",
       "      <th>bathrooms</th>\n",
       "      <th>dining room</th>\n",
       "      <th>distance from airport (kms)</th>\n",
       "      <th>drawing room</th>\n",
       "      <th>electricity backup</th>\n",
       "      <th>flooring</th>\n",
       "      <th>floors</th>\n",
       "      <th>...</th>\n",
       "      <th>DHA Defence</th>\n",
       "      <th>Federal B Area</th>\n",
       "      <th>Gadap Town</th>\n",
       "      <th>Gulistan-e-Jauhar</th>\n",
       "      <th>Gulshan-e-Iqbal Town</th>\n",
       "      <th>Jamshed Town</th>\n",
       "      <th>Malir</th>\n",
       "      <th>North Nazimabad</th>\n",
       "      <th>Others</th>\n",
       "      <th>Scheme 33</th>\n",
       "    </tr>\n",
       "  </thead>\n",
       "  <tbody>\n",
       "    <tr>\n",
       "      <th>0</th>\n",
       "      <td>55</td>\n",
       "      <td>1</td>\n",
       "      <td>1</td>\n",
       "      <td>1</td>\n",
       "      <td>0</td>\n",
       "      <td>0</td>\n",
       "      <td>0</td>\n",
       "      <td>1</td>\n",
       "      <td>1</td>\n",
       "      <td>0</td>\n",
       "      <td>...</td>\n",
       "      <td>0</td>\n",
       "      <td>0</td>\n",
       "      <td>0</td>\n",
       "      <td>0</td>\n",
       "      <td>0</td>\n",
       "      <td>0</td>\n",
       "      <td>0</td>\n",
       "      <td>0</td>\n",
       "      <td>0</td>\n",
       "      <td>0</td>\n",
       "    </tr>\n",
       "    <tr>\n",
       "      <th>3</th>\n",
       "      <td>42</td>\n",
       "      <td>1</td>\n",
       "      <td>1</td>\n",
       "      <td>1</td>\n",
       "      <td>0</td>\n",
       "      <td>0</td>\n",
       "      <td>0</td>\n",
       "      <td>1</td>\n",
       "      <td>1</td>\n",
       "      <td>0</td>\n",
       "      <td>...</td>\n",
       "      <td>0</td>\n",
       "      <td>0</td>\n",
       "      <td>0</td>\n",
       "      <td>0</td>\n",
       "      <td>0</td>\n",
       "      <td>0</td>\n",
       "      <td>0</td>\n",
       "      <td>0</td>\n",
       "      <td>0</td>\n",
       "      <td>0</td>\n",
       "    </tr>\n",
       "  </tbody>\n",
       "</table>\n",
       "<p>2 rows × 36 columns</p>\n",
       "</div>"
      ],
      "text/plain": [
       "   area  baths  beds  bathrooms  dining room  distance from airport (kms)  \\\n",
       "0    55      1     1          1            0                            0   \n",
       "3    42      1     1          1            0                            0   \n",
       "\n",
       "   drawing room  electricity backup  flooring  floors  ...  DHA Defence  \\\n",
       "0             0                   1         1       0  ...            0   \n",
       "3             0                   1         1       0  ...            0   \n",
       "\n",
       "   Federal B Area  Gadap Town  Gulistan-e-Jauhar  Gulshan-e-Iqbal Town  \\\n",
       "0               0           0                  0                     0   \n",
       "3               0           0                  0                     0   \n",
       "\n",
       "   Jamshed Town  Malir  North Nazimabad  Others  Scheme 33  \n",
       "0             0      0                0       0          0  \n",
       "3             0      0                0       0          0  \n",
       "\n",
       "[2 rows x 36 columns]"
      ]
     },
     "execution_count": 34,
     "metadata": {},
     "output_type": "execute_result"
    }
   ],
   "source": [
    "new_df.head(2)"
   ]
  },
  {
   "cell_type": "code",
   "execution_count": 35,
   "id": "1459c630",
   "metadata": {},
   "outputs": [],
   "source": [
    "X = new_df.drop(['price'],axis=1)\n",
    "\n",
    "y = new_df['price']"
   ]
  },
  {
   "cell_type": "markdown",
   "id": "0617700a",
   "metadata": {},
   "source": [
    "## DATA TRANSFORMATION"
   ]
  },
  {
   "cell_type": "code",
   "execution_count": 36,
   "id": "bbf541bf",
   "metadata": {},
   "outputs": [],
   "source": [
    "from sklearn.decomposition import PCA\n",
    "pca = PCA(n_components=7)\n",
    "new = pca.fit_transform(X)"
   ]
  },
  {
   "cell_type": "code",
   "execution_count": 37,
   "id": "76237d32",
   "metadata": {},
   "outputs": [],
   "source": [
    "X = pd.DataFrame(data = new\n",
    "             , columns = ['pca1', 'pca2','pca3', 'pca4','pca5','pca6','pca7'])"
   ]
  },
  {
   "cell_type": "code",
   "execution_count": 38,
   "id": "c9a3f55a",
   "metadata": {},
   "outputs": [
    {
     "data": {
      "text/html": [
       "<div>\n",
       "<style scoped>\n",
       "    .dataframe tbody tr th:only-of-type {\n",
       "        vertical-align: middle;\n",
       "    }\n",
       "\n",
       "    .dataframe tbody tr th {\n",
       "        vertical-align: top;\n",
       "    }\n",
       "\n",
       "    .dataframe thead th {\n",
       "        text-align: right;\n",
       "    }\n",
       "</style>\n",
       "<table border=\"1\" class=\"dataframe\">\n",
       "  <thead>\n",
       "    <tr style=\"text-align: right;\">\n",
       "      <th></th>\n",
       "      <th>pca1</th>\n",
       "      <th>pca2</th>\n",
       "      <th>pca3</th>\n",
       "      <th>pca4</th>\n",
       "      <th>pca5</th>\n",
       "      <th>pca6</th>\n",
       "      <th>pca7</th>\n",
       "    </tr>\n",
       "  </thead>\n",
       "  <tbody>\n",
       "    <tr>\n",
       "      <th>0</th>\n",
       "      <td>-21097.683257</td>\n",
       "      <td>-108.390817</td>\n",
       "      <td>0.112222</td>\n",
       "      <td>-1.659160</td>\n",
       "      <td>-0.381974</td>\n",
       "      <td>-0.445515</td>\n",
       "      <td>0.285127</td>\n",
       "    </tr>\n",
       "    <tr>\n",
       "      <th>1</th>\n",
       "      <td>39405.309470</td>\n",
       "      <td>-140.764091</td>\n",
       "      <td>-0.313304</td>\n",
       "      <td>-2.522354</td>\n",
       "      <td>-0.068653</td>\n",
       "      <td>-0.716213</td>\n",
       "      <td>0.398633</td>\n",
       "    </tr>\n",
       "  </tbody>\n",
       "</table>\n",
       "</div>"
      ],
      "text/plain": [
       "           pca1        pca2      pca3      pca4      pca5      pca6      pca7\n",
       "0 -21097.683257 -108.390817  0.112222 -1.659160 -0.381974 -0.445515  0.285127\n",
       "1  39405.309470 -140.764091 -0.313304 -2.522354 -0.068653 -0.716213  0.398633"
      ]
     },
     "execution_count": 38,
     "metadata": {},
     "output_type": "execute_result"
    }
   ],
   "source": [
    "X.head(2)"
   ]
  },
  {
   "cell_type": "markdown",
   "id": "c74a9282",
   "metadata": {},
   "source": [
    "## MODEL BUILDING AND EVALUATION"
   ]
  },
  {
   "cell_type": "markdown",
   "id": "a3899bfe",
   "metadata": {},
   "source": [
    "## linear regression"
   ]
  },
  {
   "cell_type": "code",
   "execution_count": 39,
   "id": "855bc90d",
   "metadata": {},
   "outputs": [
    {
     "name": "stdout",
     "output_type": "stream",
     "text": [
      "2353468.5697983247\n"
     ]
    },
    {
     "data": {
      "text/plain": [
       "0.9499160680811065"
      ]
     },
     "execution_count": 39,
     "metadata": {},
     "output_type": "execute_result"
    }
   ],
   "source": [
    "from sklearn.model_selection import train_test_split\n",
    "X_train, X_test, y_train, y_test = train_test_split(X, y, test_size=0.33, random_state=42)\n",
    "\n",
    "from sklearn.linear_model import LinearRegression\n",
    "lr = LinearRegression()\n",
    "lr.fit(X_train,y_train)\n",
    "pred = lr.predict(X_test)\n",
    "\n",
    "from sklearn.metrics import mean_squared_error,r2_score\n",
    " \n",
    "print( np.sqrt(   mean_squared_error(y_test,pred) )  )\n",
    "r2_score( y_test,pred)"
   ]
  },
  {
   "cell_type": "code",
   "execution_count": 41,
   "id": "79aec35e",
   "metadata": {},
   "outputs": [
    {
     "name": "stdout",
     "output_type": "stream",
     "text": [
      "2353467.664949414\n"
     ]
    },
    {
     "data": {
      "text/plain": [
       "0.9499161065930994"
      ]
     },
     "execution_count": 41,
     "metadata": {},
     "output_type": "execute_result"
    }
   ],
   "source": [
    "from sklearn.linear_model import Ridge\n",
    "ridge = Ridge()\n",
    "ridge.fit(X_train,y_train)\n",
    "ridge_pred = ridge.predict(X_test)\n",
    "\n",
    "from sklearn.metrics import mean_squared_error,r2_score\n",
    " \n",
    "print( np.sqrt(   mean_squared_error(y_test,ridge_pred) )  )\n",
    "r2_score( y_test,ridge_pred)"
   ]
  },
  {
   "cell_type": "markdown",
   "id": "12b72705",
   "metadata": {},
   "source": [
    "### LASSO "
   ]
  },
  {
   "cell_type": "code",
   "execution_count": 42,
   "id": "a7b77266",
   "metadata": {},
   "outputs": [
    {
     "name": "stdout",
     "output_type": "stream",
     "text": [
      "2353468.520063356\n"
     ]
    },
    {
     "data": {
      "text/plain": [
       "0.9499160701979164"
      ]
     },
     "execution_count": 42,
     "metadata": {},
     "output_type": "execute_result"
    }
   ],
   "source": [
    "from sklearn.linear_model import Lasso\n",
    "lasso = Lasso()\n",
    "lasso.fit(X_train,y_train)\n",
    "lasso_pred = lasso.predict(X_test)\n",
    "\n",
    "from sklearn.metrics import mean_squared_error,r2_score\n",
    " \n",
    "print( np.sqrt(   mean_squared_error(y_test,lasso_pred) )  )\n",
    "r2_score( y_test,lasso_pred)"
   ]
  },
  {
   "cell_type": "markdown",
   "id": "71ff366f",
   "metadata": {},
   "source": [
    "### RIDGE"
   ]
  },
  {
   "cell_type": "code",
   "execution_count": 40,
   "id": "465261bc",
   "metadata": {},
   "outputs": [
    {
     "name": "stdout",
     "output_type": "stream",
     "text": [
      "3171574.981620796\n"
     ]
    },
    {
     "data": {
      "text/plain": [
       "0.9090439529374892"
      ]
     },
     "execution_count": 40,
     "metadata": {},
     "output_type": "execute_result"
    }
   ],
   "source": [
    "from sklearn.neighbors import KNeighborsRegressor\n",
    "\n",
    "knn = KNeighborsRegressor()\n",
    "knn.fit(X_train,y_train)\n",
    "knn_pred = knn.predict(X_test)\n",
    "\n",
    "from sklearn.metrics import mean_squared_error,r2_score\n",
    " \n",
    "print( np.sqrt(   mean_squared_error(y_test,knn_pred) )  )\n",
    "r2_score( y_test,knn_pred)"
   ]
  },
  {
   "cell_type": "markdown",
   "id": "401e0095",
   "metadata": {},
   "source": [
    "### DECISION TREE REGRESSOR"
   ]
  },
  {
   "cell_type": "code",
   "execution_count": 47,
   "id": "49c111ac",
   "metadata": {},
   "outputs": [
    {
     "name": "stdout",
     "output_type": "stream",
     "text": [
      "349251.4283808103\n"
     ]
    },
    {
     "data": {
      "text/plain": [
       "0.9988970444941432"
      ]
     },
     "execution_count": 47,
     "metadata": {},
     "output_type": "execute_result"
    }
   ],
   "source": [
    "from sklearn.tree import DecisionTreeRegressor\n",
    "\n",
    "DTR = DecisionTreeRegressor()\n",
    "DTR.fit(X_train,y_train)\n",
    "DTR_pred = DTR.predict(X_test)\n",
    "\n",
    "from sklearn.metrics import mean_squared_error,r2_score\n",
    " \n",
    "print( np.sqrt(   mean_squared_error(y_test,DTR_pred) )  )\n",
    "r2_score( y_test,DTR_pred)"
   ]
  },
  {
   "cell_type": "markdown",
   "id": "eeb17b74",
   "metadata": {},
   "source": [
    "## DECISION TREE REGRESSOR PERFORMED BEST ON OUR DATA"
   ]
  },
  {
   "cell_type": "code",
   "execution_count": null,
   "id": "ec38ca36",
   "metadata": {},
   "outputs": [],
   "source": []
  }
 ],
 "metadata": {
  "kernelspec": {
   "display_name": "Python 3 (ipykernel)",
   "language": "python",
   "name": "python3"
  },
  "language_info": {
   "codemirror_mode": {
    "name": "ipython",
    "version": 3
   },
   "file_extension": ".py",
   "mimetype": "text/x-python",
   "name": "python",
   "nbconvert_exporter": "python",
   "pygments_lexer": "ipython3",
   "version": "3.9.7"
  }
 },
 "nbformat": 4,
 "nbformat_minor": 5
}
